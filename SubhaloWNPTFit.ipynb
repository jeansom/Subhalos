{
 "cells": [
  {
   "cell_type": "code",
   "execution_count": 1,
   "metadata": {},
   "outputs": [],
   "source": [
    "# Import relevant modules\n",
    "\n",
    "%matplotlib inline\n",
    "%load_ext autoreload\n",
    "%autoreload 2\n",
    "\n",
    "import os\n",
    "import copy\n",
    "\n",
    "import pandas as pd\n",
    "import numpy as np\n",
    "import healpy as hp\n",
    "from scipy.interpolate import interp1d\n",
    "from scipy.integrate import quad\n",
    "from scipy.optimize import minimize\n",
    "from astropy.io import fits\n",
    "from tqdm import *\n",
    "import matplotlib.pyplot as plt\n",
    "\n",
    "# NPTFit modules\n",
    "from NPTFit import nptfit # module for performing scan\n",
    "from NPTFit import create_mask as cm # module for creating the mask\n",
    "from NPTFit import psf_correction as pc # module for determining the PSF correction"
   ]
  },
  {
   "cell_type": "code",
   "execution_count": 2,
   "metadata": {},
   "outputs": [],
   "source": [
    "FermiData = np.load('fermi_data/fermidata_counts.npy').astype(np.int32)\n",
    "fermi_exposure = np.load('fermi_data/fermidata_exposure.npy')\n",
    "dif = np.load('fermi_data/template_dif.npy')\n",
    "iso = np.load('fermi_data/template_iso.npy')\n",
    "psc = np.load('fermi_data/template_psc.npy')\n",
    "subhalos = np.load('EinastoTemplate.npy')\n",
    "subhalos = subhalos/np.sum(subhalos)"
   ]
  },
  {
   "cell_type": "code",
   "execution_count": 3,
   "metadata": {},
   "outputs": [
    {
     "name": "stdout",
     "output_type": "stream",
     "text": [
      "The number of parameters to be fit is 3\n"
     ]
    },
    {
     "name": "stderr",
     "output_type": "stream",
     "text": [
      "/home/jean/miniconda3/envs/py36/lib/python3.6/site-packages/NPTFit-0.2-py3.6-linux-x86_64.egg/NPTFit/nptf_scan.py:445: RuntimeWarning: divide by zero encountered in longdouble_scalars\n",
      "  self.masked_compressed_data_expreg[i])\n"
     ]
    },
    {
     "name": "stdout",
     "output_type": "stream",
     "text": [
      "Template best-fit params are [1. 1. 1.]\n",
      "Max L-L is -1763540269434905.8\n",
      "The number of parameters to be fit is 3\n",
      "Template best-fit params are [1. 1. 1.]\n",
      "Max L-L is -1763540269434905.8\n",
      "The number of parameters to be fit is 3\n",
      "Template best-fit params are [1. 1. 1.]\n",
      "Max L-L is -1763540269434905.8\n",
      "The number of parameters to be fit is 3\n",
      "Template best-fit params are [1. 1. 1.]\n",
      "Max L-L is -1763540269434905.8\n",
      "The number of parameters to be fit is 3\n",
      "Template best-fit params are [1. 1. 1.]\n",
      "Max L-L is -1763540269434905.8\n"
     ]
    }
   ],
   "source": [
    "n = nptfit.NPTF(tag='norm')\n",
    "n.load_data(FermiData, fermi_exposure)\n",
    "\n",
    "pscmask=np.array(np.load('fermi_data/fermidata_pscmask.npy'), dtype=bool)\n",
    "mask = cm.make_mask_total(band_mask = True, band_mask_range = 5, mask_ring = True, inner = 20, outer = 180, custom_mask = pscmask)\n",
    "n.load_mask(mask)\n",
    "\n",
    "n.add_template(dif, 'dif')\n",
    "n.add_template(iso, 'iso')\n",
    "n.add_template(psc, 'psc')\n",
    "\n",
    "n.add_poiss_model('dif', '$A_\\mathrm{dif}$', [0,10], False)\n",
    "n.add_poiss_model('iso', '$A_\\mathrm{iso}$', [0,20], False)\n",
    "n.add_poiss_model('psc', '$A_\\mathrm{psc}$', [0,10], False)\n",
    "\n",
    "xsec0 = 1e-24\n",
    "A0 = 10**(-13.2551)\n",
    "n10 = -0.38119\n",
    "n20 = 10\n",
    "Fb0 = 10**(-9.42857)\n",
    "\n",
    "xsec_arr = np.logspace(-60, -22, 5)\n",
    "\n",
    "LL_xsec_ary = np.zeros(len(xsec_arr))\n",
    "\n",
    "for ix, xsec in enumerate(xsec_arr):\n",
    "    A = A0 * xsec/xsec0\n",
    "    Fb = Fb0 * xsec0/xsec\n",
    "\n",
    "    new_n = copy.copy(n)\n",
    "    new_n.add_template(subhalos, 'subhalos')\n",
    "    #new_n.add_poiss_model('subhalos', '$A_\\mathrm{sub}$', fixed=True)\n",
    "    new_n.add_non_poiss_model('subhalos', \n",
    "                           ['$A^\\mathrm{ps}_\\mathrm{iso}$','$n_1$','$n_2$','$F_b$'],\n",
    "                           fixed_params = [[0, A], [1, n10], [2, n20], [3,Fb]])\n",
    "    new_n.configure_for_scan()\n",
    "    scpy_min = minimize(lambda x: -new_n.ll(x) ,x0=[1.,1.,1.], bounds=[[0,30.], [0,30.], [0,30.]], options={'disp': False, 'ftol':1e-12}, method='SLSQP')\n",
    "    max_LL = -scpy_min['fun']\n",
    "    best_fit_params = scpy_min['x']\n",
    "    print(\"Template best-fit params are\", best_fit_params)\n",
    "    print(\"Max L-L is\", max_LL)\n",
    "    LL_xsec_ary[ix] = max_LL"
   ]
  },
  {
   "cell_type": "code",
   "execution_count": null,
   "metadata": {},
   "outputs": [],
   "source": []
  }
 ],
 "metadata": {
  "kernelspec": {
   "display_name": "Python 3",
   "language": "python",
   "name": "python3"
  },
  "language_info": {
   "codemirror_mode": {
    "name": "ipython",
    "version": 3
   },
   "file_extension": ".py",
   "mimetype": "text/x-python",
   "name": "python",
   "nbconvert_exporter": "python",
   "pygments_lexer": "ipython3",
   "version": "3.6.4"
  }
 },
 "nbformat": 4,
 "nbformat_minor": 2
}
