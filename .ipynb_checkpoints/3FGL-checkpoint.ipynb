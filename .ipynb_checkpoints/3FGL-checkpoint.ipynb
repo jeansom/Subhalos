{
 "cells": [
  {
   "cell_type": "code",
   "execution_count": 1,
   "metadata": {},
   "outputs": [],
   "source": [
    "%matplotlib inline\n",
    "\n",
    "from astropy.io import fits\n",
    "import matplotlib\n",
    "from matplotlib import pyplot as plt\n",
    "import numpy as np\n",
    "from scipy.interpolate import interp1d\n",
    "from scipy.integrate import quad\n",
    "from tqdm import *"
   ]
  },
  {
   "cell_type": "code",
   "execution_count": null,
   "metadata": {
    "scrolled": false
   },
   "outputs": [],
   "source": [
    "filename_3fgl = 'gll_psc_v16.fit'\n",
    "hdul_3fgl = fits.open(filename_3fgl)\n",
    "#hdul_3fgl[1].header"
   ]
  },
  {
   "cell_type": "code",
   "execution_count": 28,
   "metadata": {
    "scrolled": false
   },
   "outputs": [],
   "source": [
    "energy_bins = [100,300,1000,3000,10000,100000]\n",
    "flux = []\n",
    "for i in range(len(energy_bins)-1):\n",
    "    flux.append(np.zeros(len(hdul_3fgl[1].data['Flux1000'])))\n",
    "for i in range(len(energy_bins)-1):\n",
    "    flux[i:]+=np.array(hdul_3fgl[1].data['nuFnu'+str(energy_bins[i])+'_'+str(energy_bins[i+1])])"
   ]
  },
  {
   "cell_type": "code",
   "execution_count": 44,
   "metadata": {
    "scrolled": false
   },
   "outputs": [
    {
     "data": {
      "application/vnd.jupyter.widget-view+json": {
       "model_id": "98015602db514a63a00a04751b165f72",
       "version_major": 2,
       "version_minor": 0
      },
      "text/plain": [
       "HBox(children=(IntProgress(value=0, max=3034), HTML(value='')))"
      ]
     },
     "metadata": {},
     "output_type": "display_data"
    },
    {
     "name": "stdout",
     "output_type": "stream",
     "text": [
      "\n"
     ]
    }
   ],
   "source": [
    "flux_tot = []\n",
    "for i in tqdm_notebook(range(len(flux[0]))):\n",
    "    if np.abs(hdul_3fgl[1].data['GLAT'][i]) < 10: \n",
    "        continue\n",
    "    flux_temp = []\n",
    "    for j in range(len(energy_bins)-1):\n",
    "        flux_temp.append(flux[j][i])\n",
    "    flux_interp = interp1d(energy_bins[1:], flux_temp)\n",
    "    flux_tot.append(flux_interp(100e3) - flux_interp(1e3))\n",
    "    #flux_tot.append(hdul_3fgl[1].data['Flux'+str(energy_bins[i])+'_'+str(energy_bins[i+1])])"
   ]
  },
  {
   "cell_type": "code",
   "execution_count": 53,
   "metadata": {},
   "outputs": [
    {
     "data": {
      "text/plain": [
       "(1e-13, 1e-09)"
      ]
     },
     "execution_count": 53,
     "metadata": {},
     "output_type": "execute_result"
    },
    {
     "data": {
      "image/png": "[encoded data removed]",
      "text/plain": [
       "<Figure size 432x288 with 1 Axes>"
      ]
     },
     "metadata": {},
     "output_type": "display_data"
    }
   ],
   "source": [
    "#print(np.log10(min(flux_tot)))\n",
    "bins = plt.hist(flux_tot, bins=np.logspace(-13, -9, 100 ));\n",
    "plt.xscale(\"log\")\n",
    "plt.yscale(\"log\")\n",
    "plt.ylim(1, 1e3)\n",
    "plt.xlim(1e-13, 1e-9)"
   ]
  },
  {
   "cell_type": "code",
   "execution_count": 8,
   "metadata": {},
   "outputs": [
    {
     "name": "stdout",
     "output_type": "stream",
     "text": [
      "-9.759519038076153\n"
     ]
    },
    {
     "data": {
      "image/png": "[encoded data removed]",
      "text/plain": [
       "<Figure size 432x288 with 1 Axes>"
      ]
     },
     "metadata": {},
     "output_type": "display_data"
    }
   ],
   "source": [
    "F = bins[1][:-1]\n",
    "dN = bins[0]\n",
    "dF = np.diff(bins[1])\n",
    "plt.scatter(F, dN)\n",
    "#plt.yscale(\"log\")\n",
    "plt.xscale(\"log\")\n",
    "plt.ylim(0, 300)\n",
    "plt.xlim(1e-13, 1e-6)\n",
    "print(np.log10(F[np.argmax(dN)]))"
   ]
  },
  {
   "cell_type": "code",
   "execution_count": 7,
   "metadata": {},
   "outputs": [
    {
     "data": {
      "image/png": "[encoded data removed]",
      "text/plain": [
       "<Figure size 432x288 with 1 Axes>"
      ]
     },
     "metadata": {},
     "output_type": "display_data"
    }
   ],
   "source": [
    "plt.plot(F, F**2*dN/dF/(4*np.pi*(180/np.pi)**2))\n",
    "plt.yscale(\"log\")\n",
    "plt.xscale(\"log\")"
   ]
  }
 ],
 "metadata": {
  "kernelspec": {
   "display_name": "Python 3",
   "language": "python",
   "name": "python3"
  },
  "language_info": {
   "codemirror_mode": {
    "name": "ipython",
    "version": 3
   },
   "file_extension": ".py",
   "mimetype": "text/x-python",
   "name": "python",
   "nbconvert_exporter": "python",
   "pygments_lexer": "ipython3",
   "version": "3.6.5"
  }
 },
 "nbformat": 4,
 "nbformat_minor": 2
}
