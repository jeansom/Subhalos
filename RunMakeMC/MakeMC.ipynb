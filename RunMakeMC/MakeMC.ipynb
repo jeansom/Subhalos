{
 "cells": [
  {
   "cell_type": "code",
   "execution_count": null,
   "metadata": {},
   "outputs": [],
   "source": [
    "args = \"{ 'xsec_inj': '1e-22', 'trials': '1', 'mass': '100' }\"\n",
    "\n",
    "import ast\n",
    "args = ast.literal_eval(args)"
   ]
  },
  {
   "cell_type": "code",
   "execution_count": null,
   "metadata": {},
   "outputs": [],
   "source": [
    "cur_dir = '/tigress/somalwar/SubhalosFresh/'"
   ]
  },
  {
   "cell_type": "code",
   "execution_count": null,
   "metadata": {},
   "outputs": [],
   "source": [
    "# Tigress dirs\n",
    "import os, sys\n",
    "import copy\n",
    "\n",
    "import argparse\n",
    "import numpy as np\n",
    "import json\n",
    "from scipy.optimize import minimize\n",
    "\n",
    "# NPTFit modules\n",
    "from NPTFit import nptfit # module for performing scan\n",
    "from NPTFit import create_mask as cm # module for creating the mask\n",
    "import pandas as pd\n",
    "import healpy as hp\n",
    "\n",
    "sys.path.append(cur_dir)\n",
    "sys.path.append(cur_dir+\"/Code/\")\n",
    "# My Modules\n",
    "from Recxsec_modules_NP import makeMockData\n",
    "from AssortedFunctions import getEnergyBinnedMaps"
   ]
  },
  {
   "cell_type": "code",
   "execution_count": null,
   "metadata": {},
   "outputs": [],
   "source": [
    "nside = 128\n",
    "npix = hp.nside2npix(nside)\n",
    "ebins = 2*np.logspace(-1,3,41)[0:41]\n",
    "my_iebins = [10, 15, 20, 40]"
   ]
  },
  {
   "cell_type": "code",
   "execution_count": null,
   "metadata": {},
   "outputs": [],
   "source": [
    "xi = float(args['xsec_inj'])\n",
    "mass = float(args['mass'])\n",
    "trials = int(args['trials'])"
   ]
  },
  {
   "cell_type": "code",
   "execution_count": null,
   "metadata": {},
   "outputs": [],
   "source": [
    "pscmask = np.array(np.load(cur_dir+'/fermi_data/fermidata_pscmask.npy'), dtype=bool)\n",
    "mask = cm.make_mask_total(band_mask = True, band_mask_range = 5, mask_ring = True, inner = 20, outer = 180, custom_mask = pscmask)"
   ]
  },
  {
   "cell_type": "code",
   "execution_count": null,
   "metadata": {},
   "outputs": [],
   "source": [
    "exposure_ebins = getEnergyBinnedMaps('/maps/exposure', cur_dir, my_iebins, ave=True, int32=False, nside=nside)\n",
    "dif_ebins = getEnergyBinnedMaps('/maps/dif', cur_dir, my_iebins, ave=False, int32=False, nside=nside)\n",
    "iso_ebins = getEnergyBinnedMaps('/maps/iso', cur_dir, my_iebins, ave=False, int32=False, nside=nside)\n",
    "psc_ebins = getEnergyBinnedMaps('/maps/psc', cur_dir, my_iebins, ave=False, int32=False, nside=nside)\n",
    "fermi_data_ebins = getEnergyBinnedMaps('/maps/data', cur_dir, my_iebins, ave=False, int32=True, nside=nside)"
   ]
  },
  {
   "cell_type": "code",
   "execution_count": null,
   "metadata": {},
   "outputs": [],
   "source": [
    "bkg_fit = []\n",
    "for ib, b in enumerate(my_iebins[:-1]):\n",
    "    n_bkg = nptfit.NPTF(tag='norm')\n",
    "    n_bkg.load_data(fermi_data_ebins[ib].copy().astype(np.int32), exposure_ebins[ib].copy())\n",
    "    n_bkg.load_mask(mask)\n",
    "    \n",
    "    n_bkg.add_template(dif_ebins[ib].copy(), 'dif')\n",
    "    n_bkg.add_template(iso_ebins[ib].copy(), 'iso')\n",
    "    n_bkg.add_template(psc_ebins[ib].copy(), 'psc')\n",
    "    \n",
    "    n_bkg.add_poiss_model('dif', '$A_\\mathrm{dif}$', [0,20], False)\n",
    "    n_bkg.add_poiss_model('iso', '$A_\\mathrm{iso}$', [0,20], False)\n",
    "    n_bkg.add_poiss_model('psc', '$A_\\mathrm{psc}$', [0,20], False)\n",
    "    \n",
    "    n_bkg.configure_for_scan()\n",
    "    \n",
    "    bkg_min = minimize( lambda args: -n_bkg.ll([*args]), \n",
    "                       [ 0.89, 5, 0.03795109 ], method=\"SLSQP\", bounds = [ [0,10], [0,10], [0,10] ], \n",
    "                       options={'ftol':1e-15, 'eps':1e-10, 'maxiter':5000, 'disp':True} )\n",
    "    bkg_fit.append(bkg_min.x)"
   ]
  },
  {
   "cell_type": "code",
   "execution_count": null,
   "metadata": {},
   "outputs": [],
   "source": [
    "x0 = 1e-22\n",
    "for ib, b in enumerate(my_iebins[:-1]):\n",
    "    for t in range(trials):\n",
    "        blazars_t = np.load(cur_dir+\"/BlazarMC/blazarMC_iebins-\"+str(my_iebins[ib])+\"to\"+str(my_iebins[ib+1])+\"_\"+str(t)+\".npy\")*exposure_ebins[ib]\n",
    "        \n",
    "        subMC_t = np.zeros(npix)\n",
    "        it = 0\n",
    "        while(True):\n",
    "            try:\n",
    "                subMC_t += np.load(cur_dir+\"/SubhaloMC/subhaloMC_ExactJ_Einasto_iebins-\"+str(my_iebins[ib])+\"to\"+str(my_iebins[ib+1])+\"_m-\"+str(mass)+\"GeV_x-1e-22_\"+str(it)+\"_\"+str(t)+\".npy\")\n",
    "                it+=1\n",
    "            except:\n",
    "                break\n",
    "        subMC_t = np.mean(exposure_ebins[ib]) * (xi/x0) * subMC_t\n",
    "        subMC_t[subMC_t > 1000] = 0\n",
    "        data_t = makeMockData( subMC_t, blazars_t, bkg_fit[ib][0]*dif_ebins[ib], bkg_fit[ib][1]*iso_ebins[ib] )\n",
    "        np.save(cur_dir+\"/MC/MC_ExactJ_Einasto_iebins-\"+str(my_iebins[ib])+\"to\"+str(my_iebins[ib+1])+\"_m-\"+str(mass)+\"GeV_x-\"+str(xi)+\"_\"+str(t), data_t)\n",
    "        "
   ]
  }
 ],
 "metadata": {
  "kernelspec": {
   "display_name": "Python 3",
   "language": "python",
   "name": "python3"
  },
  "language_info": {
   "codemirror_mode": {
    "name": "ipython",
    "version": 3
   },
   "file_extension": ".py",
   "mimetype": "text/x-python",
   "name": "python",
   "nbconvert_exporter": "python",
   "pygments_lexer": "ipython3",
   "version": "3.6.5"
  }
 },
 "nbformat": 4,
 "nbformat_minor": 2
}
