{
 "cells": [
  {
   "cell_type": "code",
   "execution_count": null,
   "metadata": {},
   "outputs": [],
   "source": [
    "args = \"{'xsec': 1e-22, 'nsubs': 150, 'trial': 0, 'iter': 0, 'mass': 100}\""
   ]
  },
  {
   "cell_type": "code",
   "execution_count": null,
   "metadata": {},
   "outputs": [],
   "source": [
    "import ast\n",
    "args = ast.literal_eval(args)\n",
    "\n",
    "cur_dir = '/tigress/somalwar/SubhalosFresh/'"
   ]
  },
  {
   "cell_type": "code",
   "execution_count": null,
   "metadata": {},
   "outputs": [],
   "source": [
    "import os, sys\n",
    "import healpy as hp\n",
    "import numpy as np\n",
    "from scipy.integrate import quad\n",
    "\n",
    "sys.path.append(cur_dir)\n",
    "sys.path.append(cur_dir+\"/Code/\")\n",
    "# My Functions\n",
    "import AssortedFunctions\n",
    "import InverseTransform\n",
    "import PointSource\n",
    "import PointSource_ExactJ_Einasto\n",
    "import PointSource_ExactJ_NFW\n",
    "import PointSource_Approx_NFW\n",
    "\n",
    "# Siddharth and Laura's Stuff\n",
    "import constants\n",
    "import units"
   ]
  },
  {
   "cell_type": "code",
   "execution_count": null,
   "metadata": {},
   "outputs": [],
   "source": [
    "# Global settings\n",
    "nside=128\n",
    "emin = 0\n",
    "emax = 39\n",
    "npix = hp.nside2npix(nside)\n",
    "\n",
    "channel = 'b'\n",
    "conc = \"SP\"\n",
    "xsec = float(args['xsec'])\n",
    "trial = int(args['trial'])\n",
    "N_subs = args['nsubs']\n",
    "it = int(args['iter'])\n",
    "marr = [float(args['mass'])]\n",
    "ebins = 2*np.logspace(-1,3,41)[emin:emax+2]\n",
    "my_iebins = [10, 15, 20, 40]"
   ]
  },
  {
   "cell_type": "code",
   "execution_count": null,
   "metadata": {},
   "outputs": [],
   "source": [
    "exposure_ebins = AssortedFunctions.getEnergyBinnedMaps('/maps/exposure', cur_dir, my_iebins, ave=True, int32=False, nside=nside)"
   ]
  },
  {
   "cell_type": "code",
   "execution_count": null,
   "metadata": {},
   "outputs": [],
   "source": [
    "# Defining some constants\n",
    "r_s = 199 # scale radius, [kpc]\n",
    "r_s_NFW = 17 # scale radius [kpc]\n",
    "alpha = 0.678\n",
    "M_MW = 1.1e12 # [M_s]\n",
    "\n",
    "N_calib = 300. # Number of subhalos with masses 10^8 - 10^10 M_sun\n",
    "mMin_calib = 1e8 # [M_s]\n",
    "mMax_calib = 1e10 # [M_s]\n",
    "\n",
    "mMin = 1e-5*M_MW\n",
    "mMax = .01*M_MW # [M_s]"
   ]
  },
  {
   "cell_type": "code",
   "execution_count": null,
   "metadata": {},
   "outputs": [],
   "source": [
    "def dNdm_func(m): # Subhalo mass function\n",
    "    norm = N_calib / ( -.9**(-1) * (mMax_calib**(-.9) - mMin_calib**(-.9)))\n",
    "    return norm * (m)**(-1.9)\n",
    "\n",
    "m_arr = np.logspace(np.log10(mMin), np.log10(mMax), 8000) # mass values to test\n",
    "def mCDFInv(r):\n",
    "    return ( m_arr[0]**(-.9) - (m_arr[0]**(-.9) - m_arr[-1]**(-.9))*r)**(-1/.9)\n",
    "\n",
    "rho_s2 = float(N_subs) / quad(lambda x: 4 * np.pi * x**2 * np.exp( -2./alpha * ( (x/r_s)**(alpha) - 1)), 0, 2000)[0]\n",
    "def rho_Ein(r): # Einasto density Profile\n",
    "    return rho_s2 * np.exp( (-2./alpha) * ( (r/r_s)**(alpha) - 1))"
   ]
  },
  {
   "cell_type": "code",
   "execution_count": null,
   "metadata": {},
   "outputs": [],
   "source": [
    "r_arr = np.logspace(0, np.log10(2000), 60500) # radius values to test\n",
    "r_sampler = InverseTransform.InverseTransform(lambda r: r**2 * rho_Ein(r), r_arr, nsamples=N_subs)\n",
    "m_sampler = InverseTransform.InverseTransform(dNdm_func, m_arr, nsamples=N_subs, cdfinv=mCDFInv)"
   ]
  },
  {
   "cell_type": "code",
   "execution_count": null,
   "metadata": {},
   "outputs": [],
   "source": [
    "PPnoxsec_ebins = AssortedFunctions.getPPnoxsec(marr[0], 'b', my_iebins, cur_dir )\n",
    "flux_bins = np.logspace(-15, -6, 8*8)\n",
    "\n",
    "PS_arr_ebins = []\n",
    "for ib in range(len(my_iebins)-1):\n",
    "    rval_arr = r_sampler.sample(); mval_arr = m_sampler.sample()\n",
    "    theta_arr = (np.arccos(2*np.random.rand(N_subs)-1))\n",
    "    phi_arr = (2*np.pi*np.random.rand(N_subs))\n",
    "    \n",
    "    PS_set = PointSource_Approx_NFW.PS(mval_arr, rval_arr, theta_arr, phi_arr)\n",
    "    PS_set.calcJ(conc)\n",
    "\n",
    "    PS_arr_ebins.append(PS_set)\n",
    "    "
   ]
  },
  {
   "cell_type": "code",
   "execution_count": null,
   "metadata": {},
   "outputs": [],
   "source": [
    "for ib, PS_set in enumerate(PS_arr_ebins):\n",
    "    flux_map = np.zeros(npix)\n",
    "    for ipix, pix in enumerate(PS_set.pixels):\n",
    "        flux_map[pix] += PS_set.J[ipix] * xsec * PPnoxsec_ebins[ib]\n",
    "    np.save(cur_dir+\"/SubhaloMC/subhaloMC_ExactJ_Einasto_iebins-\"+str(my_iebins[ib])+\"to\"+str(my_iebins[ib+1])+\"_m-\"+str(marr[0])+\"GeV_x-\"+str(xsec)+\"_\"+str(it)+\"_\"+str(trial), flux_map) \n",
    "    "
   ]
  }
 ],
 "metadata": {
  "kernelspec": {
   "display_name": "Python 3",
   "language": "python",
   "name": "python3"
  },
  "language_info": {
   "codemirror_mode": {
    "name": "ipython",
    "version": 3
   },
   "file_extension": ".py",
   "mimetype": "text/x-python",
   "name": "python",
   "nbconvert_exporter": "python",
   "pygments_lexer": "ipython3",
   "version": "3.6.5"
  }
 },
 "nbformat": 4,
 "nbformat_minor": 2
}
