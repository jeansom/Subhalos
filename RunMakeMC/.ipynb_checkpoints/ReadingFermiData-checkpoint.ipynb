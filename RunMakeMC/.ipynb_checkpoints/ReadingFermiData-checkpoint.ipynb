{
 "cells": [
  {
   "cell_type": "code",
   "execution_count": 2,
   "metadata": {
    "collapsed": true
   },
   "outputs": [],
   "source": [
    "nptf_old_dir='/tigress/smsharma/Fermi-NPTF-exposure/'\n",
    "work_dir = '/tigress/smsharma/Fermi-SmoothGalHalo/'\n",
    "psf_dir='/tigress/smsharma/public/CTBCORE/psf_data/'\n",
    "maps_dir='/tigress/smsharma/public/CTBCORE/'\n",
    "fermi_data_dir='/tigress/smsharma/public/FermiData/'\n",
    "\n",
    "cur_dir='/tigress/somalwar/SubhalosFresh/'"
   ]
  },
  {
   "cell_type": "code",
   "execution_count": 3,
   "metadata": {},
   "outputs": [],
   "source": [
    "import sys\n",
    "import numpy as np\n",
    "import healpy as hp\n",
    "import pandas as pd\n",
    "\n",
    "# Additional modules\n",
    "sys.path.append(nptf_old_dir)\n",
    "sys.path.append(work_dir + '/mkDMMaps')\n",
    "import fermi.fermi_plugin as fp\n",
    "sys.path.append(cur_dir+'/Fermi-NPTF-exposure/')\n",
    "import mkDMMaps\n",
    "\n",
    "%matplotlib inline"
   ]
  },
  {
   "cell_type": "code",
   "execution_count": 4,
   "metadata": {
    "collapsed": true
   },
   "outputs": [],
   "source": [
    "# Global settings\n",
    "nside=128\n",
    "eventclass=5 # 2 (Source) or 5 (UltracleanVeto)\n",
    "eventtype=3 # 0 (all), 3 (bestpsf) or 5 (top3 quartiles)\n",
    "diff = 'p6' # 'p6', 'p7', 'p8'\n",
    "emin = 0\n",
    "emax = 39\n",
    "\n",
    "# Load the Fermi plugin\n",
    "f_global = fp.fermi_plugin(maps_dir,fermi_data_dir=fermi_data_dir,work_dir=work_dir,CTB_en_min=emin,CTB_en_max=emax+1,nside=nside,eventclass=eventclass,eventtype=eventtype,newstyle=1,data_July16=True)"
   ]
  },
  {
   "cell_type": "code",
   "execution_count": 5,
   "metadata": {
    "collapsed": true
   },
   "outputs": [],
   "source": [
    "# These are the energy bin edges over which the data is defined\n",
    "ebins = 2*np.logspace(-1,3,41)[emin:emax+2]"
   ]
  },
  {
   "cell_type": "code",
   "execution_count": 8,
   "metadata": {},
   "outputs": [],
   "source": [
    "# Load necessary templates from the plugin\n",
    "\n",
    "f_global.add_diffuse_newstyle(comp = diff,eventclass = eventclass, eventtype = eventtype) \n",
    "f_global.add_iso()  \n",
    "# f_global.add_ps_model() # Don't load PS model from plugin -- add custom model\n",
    "ps_temp = np.load(cur_dir+'/fermi_data/ps_map.npy')\n",
    "f_global.add_template_by_hand(comp='ps_model',template=ps_temp)\n",
    "f_global.add_bubbles()"
   ]
  },
  {
   "cell_type": "code",
   "execution_count": 9,
   "metadata": {
    "collapsed": true
   },
   "outputs": [],
   "source": [
    "for iebin in range(len(ebins)-1):\n",
    "    fermi_data = f_global.CTB_count_maps[iebin].astype(np.int32)\n",
    "    fermi_exposure = f_global.CTB_exposure_maps[iebin]\n",
    "\n",
    "    dif = f_global.template_dict[diff][iebin]\n",
    "    iso = f_global.template_dict['iso'][iebin]\n",
    "    psc = f_global.template_dict['ps_model'][iebin]\n",
    "    bub = f_global.template_dict['bubs'][iebin]\n",
    "    \n",
    "    np.save(cur_dir+'/maps/dif'+str(iebin), dif)\n",
    "    np.save(cur_dir+'/maps/iso'+str(iebin), iso)\n",
    "    np.save(cur_dir+'/maps/psc'+str(iebin), psc)\n",
    "    np.save(cur_dir+'/maps/bub'+str(iebin), bub)\n",
    "    np.save(cur_dir+'/maps/data'+str(iebin), fermi_data)\n",
    "    np.save(cur_dir+'/maps/exposure'+str(iebin), fermi_exposure)"
   ]
  }
 ],
 "metadata": {
  "anaconda-cloud": {},
  "kernelspec": {
   "display_name": "Python 2.7",
   "language": "python",
   "name": "venv_py27"
  },
  "language_info": {
   "codemirror_mode": {
    "name": "ipython",
    "version": 2
   },
   "file_extension": ".py",
   "mimetype": "text/x-python",
   "name": "python",
   "nbconvert_exporter": "python",
   "pygments_lexer": "ipython2",
   "version": "2.7.15"
  }
 },
 "nbformat": 4,
 "nbformat_minor": 2
}
