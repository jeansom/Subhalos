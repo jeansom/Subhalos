{
 "cells": [
  {
   "cell_type": "code",
   "execution_count": null,
   "metadata": {},
   "outputs": [],
   "source": [
    "args = \"{'trial': 0}\""
   ]
  },
  {
   "cell_type": "code",
   "execution_count": null,
   "metadata": {},
   "outputs": [],
   "source": [
    "import ast\n",
    "args = ast.literal_eval(args)\n",
    "\n",
    "cur_dir = '/tigress/somalwar/SubhalosFresh/'"
   ]
  },
  {
   "cell_type": "code",
   "execution_count": null,
   "metadata": {},
   "outputs": [],
   "source": [
    "import os, sys\n",
    "import copy\n",
    "import healpy as hp\n",
    "import numpy as np\n",
    "from scipy.interpolate import interp1d\n",
    "\n",
    "sys.path.append(cur_dir)\n",
    "sys.path.append(cur_dir+\"/Code/\")\n",
    "# My Functions\n",
    "import AssortedFunctions\n",
    "from AssortedFunctions import myLog\n",
    "import InverseTransform\n",
    "import PowerLaw\n",
    "\n",
    "# NPTFit\n",
    "from NPTFit import create_mask as cm"
   ]
  },
  {
   "cell_type": "code",
   "execution_count": null,
   "metadata": {},
   "outputs": [],
   "source": [
    "# Global settings\n",
    "nside= 128\n",
    "npix = hp.nside2npix(nside)\n",
    "emin = 0\n",
    "emax = 39\n",
    "trial = args['trial']\n",
    "\n",
    "ebins = 2*np.logspace(-1,3,41)[emin:emax+2]\n",
    "my_iebins = [10, 15, 20, 40]\n",
    "\n",
    "exposure_ebins = AssortedFunctions.getEnergyBinnedMaps('/maps/exposure', cur_dir, my_iebins, ave=True, int32=False, nside=nside)"
   ]
  },
  {
   "cell_type": "code",
   "execution_count": null,
   "metadata": {},
   "outputs": [],
   "source": [
    "pscmask=np.array(np.load('/tigress/somalwar/Subhaloes/Subhalos/fermi_data/fermidata_pscmask.npy'), dtype=bool)\n",
    "mask = cm.make_mask_total(band_mask = True, band_mask_range = 5, mask_ring = True, inner = 20, outer = 180, custom_mask = pscmask)\n",
    "area_rat = (len(mask[~mask]))/len(mask)"
   ]
  },
  {
   "cell_type": "code",
   "execution_count": null,
   "metadata": {},
   "outputs": [],
   "source": [
    "dNdF_file_ebins, cum_ebins, dNdF_func_ebins, N_blaz_ebins = [], [], [], []\n",
    "for ib in range(len(my_iebins)-1):\n",
    "    dNdF_file_ebins.append(np.load(cur_dir+\"/BlazarSpec/blazar_dNdF_\"+str(my_iebins[ib])+\"-\"+str(my_iebins[ib+1])+\".npy\"))\n",
    "    dNdF_file_ebins[-1] = [ dNdF_file_ebins[-1][0], dNdF_file_ebins[-1][1] ] # ????\n",
    "    dNdF_func_ebins.append(interp1d(dNdF_file_ebins[ib][0], dNdF_file_ebins[ib][1]))\n",
    "    cum = []\n",
    "    for i in range(len(dNdF_file_ebins[ib][0])):\n",
    "        cum.append(np.trapz(dNdF_file_ebins[ib][1][:i+1], dNdF_file_ebins[ib][0][:i+1]))\n",
    "    N_blaz_ebins.append(int(np.round(np.random.poisson(cum[-1]*area_rat*4*np.pi*(180/np.pi)**2))))\n",
    "    cum_ebins.append(np.array(cum)/max(cum))"
   ]
  },
  {
   "cell_type": "code",
   "execution_count": null,
   "metadata": {},
   "outputs": [],
   "source": [
    "#F_cons = 10**(-9.759519038076153)\n",
    "F_cons = 10**(-8)\n",
    "flux_bins = np.logspace(-14, -6, 56)\n",
    "F_cut = flux_bins[np.argmin(np.abs(F_cons-flux_bins))]\n",
    "for ib in range(len(my_iebins)-1):\n",
    "    F_sampler = InverseTransform.InverseTransform(dNdF_func_ebins[ib], dNdF_file_ebins[ib][0], nsamples=N_blaz_ebins[ib], cdfinv=interp1d(cum_ebins[ib], dNdF_file_ebins[ib][0]))\n",
    "    \n",
    "    bmap_temp = np.zeros(npix)\n",
    "\n",
    "    pval_arr = np.random.randint(npix, size=N_blaz_ebins[ib]); Fval_arr = F_sampler.sample()\n",
    "    pval_arr = pval_arr[Fval_arr < F_cut]; Fval_arr = Fval_arr[Fval_arr < F_cut]\n",
    "    for ip, pval in enumerate(pval_arr):\n",
    "        bmap_temp[pval] += Fval_arr[ip]\n",
    "    np.save(cur_dir+\"/BlazarMC/blazarMC_iebins-\"+str(my_iebins[ib])+\"to\"+str(my_iebins[ib+1])+\"_\"+str(trial), bmap_temp)\n",
    "    "
   ]
  }
 ],
 "metadata": {
  "kernelspec": {
   "display_name": "Python 3",
   "language": "python",
   "name": "python3"
  },
  "language_info": {
   "codemirror_mode": {
    "name": "ipython",
    "version": 3
   },
   "file_extension": ".py",
   "mimetype": "text/x-python",
   "name": "python",
   "nbconvert_exporter": "python",
   "pygments_lexer": "ipython3",
   "version": "3.6.5"
  }
 },
 "nbformat": 4,
 "nbformat_minor": 2
}
