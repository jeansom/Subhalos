{
 "cells": [
  {
   "cell_type": "code",
   "execution_count": null,
   "metadata": {},
   "outputs": [],
   "source": [
    "cur_dir = '/tigress/somalwar/SubhalosFresh/'"
   ]
  },
  {
   "cell_type": "code",
   "execution_count": null,
   "metadata": {},
   "outputs": [],
   "source": [
    "import os, sys\n",
    "import numpy as np"
   ]
  },
  {
   "cell_type": "code",
   "execution_count": null,
   "metadata": {},
   "outputs": [],
   "source": [
    "ebins = 2*np.logspace(-1,3,41)[0:41]\n",
    "my_iebins = [10, 15, 20, 40]"
   ]
  },
  {
   "cell_type": "markdown",
   "metadata": {},
   "source": [
    "Subhalos"
   ]
  },
  {
   "cell_type": "code",
   "execution_count": null,
   "metadata": {},
   "outputs": [],
   "source": [
    "trials = 5\n",
    "xt_a = [1e-22] #np.concatenate(( [1e-22], np.logspace(-20, -12, 25) ))\n",
    "mass = float(100)"
   ]
  },
  {
   "cell_type": "code",
   "execution_count": null,
   "metadata": {},
   "outputs": [],
   "source": [
    "for ib in range(len(my_iebins)-1):\n",
    "    x_at, SCD_a = [], []\n",
    "    for ix_t, x_t in enumerate(xt_a):\n",
    "        n = 0\n",
    "        a_t = []\n",
    "        for t in range(trials):\n",
    "            try:\n",
    "                a_t.append(np.load(cur_dir+\"/SCD/subSCD_arr_iebins-\"+str(my_iebins[ib])+\"to\"+str(my_iebins[ib+1])+\"_m-\"+str(mass)+\"GeV_x-\"+str(x_t)+\"_\"+str(t)+\".npy\"))\n",
    "                n+=1\n",
    "            except: n+=0\n",
    "        a_t = np.array(a_t)[0]\n",
    "        if np.log10(np.median(10**a_t, axis=0)[0]) == -10 and x_t > 1e-17:\n",
    "            break\n",
    "\n",
    "        x_at.append(x_t)\n",
    "        SCD_a.append([np.log10(np.median(10**a_t, axis=0)[0]), np.median(a_t, axis=0)[1], np.median(a_t, axis=0)[2], np.median(a_t, axis=0)[3], np.median(a_t, axis=0)[4], 1000, np.median(a_t, axis=0)[5], np.median(a_t, axis=0)[6]])\n",
    "        \n",
    "    np.save(cur_dir+\"/SCD/subSCD_xsec_iebins-\"+str(my_iebins[ib])+\"to\"+str(my_iebins[ib+1])+\"_m-\"+str(mass)+\"GeV_x-\"+str(x_t), x_at)\n",
    "    np.save(cur_dir+\"/SCD/subSCD_par_iebins-\"+str(my_iebins[ib])+\"to\"+str(my_iebins[ib+1])+\"_m-\"+str(mass)+\"GeV_x-\"+str(x_t), SCD_a)\n",
    "    "
   ]
  },
  {
   "cell_type": "markdown",
   "metadata": {},
   "source": [
    "Blazars"
   ]
  },
  {
   "cell_type": "code",
   "execution_count": null,
   "metadata": {},
   "outputs": [],
   "source": [
    "for ib in range(len(my_iebins)-1):\n",
    "    n = 0\n",
    "    a_t = []\n",
    "    for t in range(trials):\n",
    "        try:\n",
    "            a_t.append(np.load(cur_dir+\"/SCD/blazSCD_iebins-\"+str(my_iebins[ib])+\"to\"+str(my_iebins[ib+1])+\"_\"+str(t)+\".npy\"))\n",
    "            n+=1\n",
    "        except: n+=0\n",
    "    a_t = np.array(a_t)\n",
    "    if np.log10(np.median(10**a_t, axis=0)[0]) == -10 and xsec > 1e-17:\n",
    "        break\n",
    "    SCDm_t = np.median(a_t, axis=0)\n",
    "    SCD_arr = [np.log10(np.median(10**a_t, axis=0)[0]), SCDm_t[1], SCDm_t[2], SCDm_t[3], SCDm_t[4], SCDm_t[5]]\n",
    "    np.save(cur_dir+\"/SCD/blazSCD_par_iebins-\"+str(my_iebins[ib])+\"to\"+str(my_iebins[ib+1]), SCD_arr)\n",
    "    "
   ]
  },
  {
   "cell_type": "code",
   "execution_count": null,
   "metadata": {},
   "outputs": [],
   "source": []
  }
 ],
 "metadata": {
  "kernelspec": {
   "display_name": "Python 3",
   "language": "python",
   "name": "python3"
  },
  "language_info": {
   "codemirror_mode": {
    "name": "ipython",
    "version": 3
   },
   "file_extension": ".py",
   "mimetype": "text/x-python",
   "name": "python",
   "nbconvert_exporter": "python",
   "pygments_lexer": "ipython3",
   "version": "3.6.5"
  }
 },
 "nbformat": 4,
 "nbformat_minor": 2
}
