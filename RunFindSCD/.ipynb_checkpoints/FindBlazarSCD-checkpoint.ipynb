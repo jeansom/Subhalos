{
 "cells": [
  {
   "cell_type": "code",
   "execution_count": null,
   "metadata": {},
   "outputs": [],
   "source": [
    "args = \"{'trial': 0}\""
   ]
  },
  {
   "cell_type": "code",
   "execution_count": null,
   "metadata": {},
   "outputs": [],
   "source": [
    "import ast\n",
    "args = ast.literal_eval(args)\n",
    "\n",
    "cur_dir = '/tigress/somalwar/SubhalosFresh/'"
   ]
  },
  {
   "cell_type": "code",
   "execution_count": null,
   "metadata": {},
   "outputs": [],
   "source": [
    "import os, sys\n",
    "import copy\n",
    "import healpy as hp\n",
    "import numpy as np\n",
    "from scipy.optimize import minimize\n",
    "\n",
    "sys.path.append(cur_dir)\n",
    "sys.path.append(cur_dir+\"/Code/\")\n",
    "# My Functions\n",
    "import AssortedFunctions\n",
    "\n",
    "# NPTFit modules\n",
    "from NPTFit import nptfit # module for performing scan\n",
    "from NPTFit import create_mask as cm # module for creating the mask"
   ]
  },
  {
   "cell_type": "code",
   "execution_count": null,
   "metadata": {},
   "outputs": [],
   "source": [
    "# Global settings\n",
    "nside= 128\n",
    "npix = hp.nside2npix(nside)\n",
    "emin = 0\n",
    "emax = 39\n",
    "trial = args['trial']\n",
    "\n",
    "ebins = 2*np.logspace(-1,3,41)[emin:emax+2]\n",
    "my_iebins = [10, 15, 20, 40]"
   ]
  },
  {
   "cell_type": "code",
   "execution_count": null,
   "metadata": {},
   "outputs": [],
   "source": [
    "exposure_ebins = AssortedFunctions.getEnergyBinnedMaps('/maps/exposure', cur_dir, my_iebins, ave=True, int32=False, nside=nside)\n",
    "pscmask=np.array(np.load(cur_dir+'/fermi_data/fermidata_pscmask.npy'), dtype=bool)\n",
    "mask = cm.make_mask_total(band_mask = True, band_mask_range = 5, mask_ring = True, inner = 20, outer = 180, custom_mask = pscmask)"
   ]
  },
  {
   "cell_type": "code",
   "execution_count": null,
   "metadata": {},
   "outputs": [],
   "source": [
    "for ib in range(len(my_iebins)-1):\n",
    "    blaz = np.round(np.random.poisson(np.load(cur_dir+\"/BlazarMC/blazarMC_iebins-\"+str(my_iebins[ib])+\"to\"+str(my_iebins[ib+1])+\"_\"+str(trial)+\".npy\") * exposure_ebins[ib])).astype(np.int32)\n",
    "    blaz[blaz > 1000] = 0\n",
    "    n = nptfit.NPTF(tag='fit')\n",
    "    n.load_data(blaz.copy(), exposure_ebins[ib].copy())\n",
    "    n.load_mask(mask)\n",
    "    \n",
    "    n.add_template(np.ones(len(blaz)), 'blazars', units='PS')\n",
    "    n.add_non_poiss_model( 'blazars',\n",
    "                           ['$A$','$n_1$','$n_2$', '$n_3$', '$S_b1$', '$S_b2$'],\n",
    "                           [[-10, -1],[2.05, 10],[-3, 3],[-15, 1.95],[0.0001,1e3], [0, 1]],\n",
    "                           [True,False,False, False, False, False],\n",
    "                           dnds_model='specify_relative_breaks' )\n",
    "    \n",
    "    n.configure_for_scan();\n",
    "    \n",
    "    def ll(args):\n",
    "        A, n1, n2, n3, Fb1, Fb2 = args\n",
    "        return -n.ll([A, n1, n2, n3, Fb1, Fb2])\n",
    "    scipy_min = minimize( ll, [-4, 5, 2, 1.5, 60, 0.1], method=\"SLSQP\", bounds = [ [-15, -2], [2.05, 10], [-3, 3], [-10, 1.95], [1,1000], [0.01, 0.3] ], options={'ftol':1e-15, 'eps':1e-5, 'maxiter':50000, 'disp':True} )\n",
    "    print(repr(scipy_min.x))\n",
    "    np.save(cur_dir+\"/SCD/blazSCD_iebins-\"+str(my_iebins[ib])+\"to\"+str(my_iebins[ib+1])+\"_\"+str(trial), scipy_min.x)\n"
   ]
  }
 ],
 "metadata": {
  "kernelspec": {
   "display_name": "Python 3",
   "language": "python",
   "name": "python3"
  },
  "language_info": {
   "codemirror_mode": {
    "name": "ipython",
    "version": 3
   },
   "file_extension": ".py",
   "mimetype": "text/x-python",
   "name": "python",
   "nbconvert_exporter": "python",
   "pygments_lexer": "ipython3",
   "version": "3.6.5"
  }
 },
 "nbformat": 4,
 "nbformat_minor": 2
}
