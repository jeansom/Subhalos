{
 "cells": [
  {
   "cell_type": "code",
   "execution_count": null,
   "metadata": {},
   "outputs": [],
   "source": [
    "args = \"{'xsec': 1e-22, 'trial': 0, 'mass': 1000}\""
   ]
  },
  {
   "cell_type": "code",
   "execution_count": null,
   "metadata": {},
   "outputs": [],
   "source": [
    "import ast\n",
    "args = ast.literal_eval(args)\n",
    "\n",
    "cur_dir = '/tigress/somalwar/SubhalosFresh/'"
   ]
  },
  {
   "cell_type": "code",
   "execution_count": null,
   "metadata": {},
   "outputs": [],
   "source": [
    "import os, sys\n",
    "import numpy as np\n",
    "import healpy as hp\n",
    "from scipy.optimize import minimize\n",
    "\n",
    "sys.path.append(cur_dir)\n",
    "sys.path.append(cur_dir+\"/Code/\")\n",
    "# My Functions\n",
    "import AssortedFunctions\n",
    "\n",
    "# NPTFit modules\n",
    "from NPTFit import nptfit # module for performing scan\n",
    "from NPTFit import create_mask as cm # module for creating the mass"
   ]
  },
  {
   "cell_type": "code",
   "execution_count": null,
   "metadata": {},
   "outputs": [],
   "source": [
    "# Global settings\n",
    "nside=128\n",
    "npix = hp.nside2npix(nside)\n",
    "emin = 0\n",
    "emax = 39\n",
    "\n",
    "xsec = float(args['xsec'])\n",
    "marr = [float(args['mass'])]\n",
    "trial = args['trial']\n",
    "ebins = 2*np.logspace(-1,3,41)[emin:emax+2]\n",
    "my_iebins = [10, 15, 20, 40]"
   ]
  },
  {
   "cell_type": "code",
   "execution_count": null,
   "metadata": {},
   "outputs": [],
   "source": [
    "exposure_ebins = AssortedFunctions.getEnergyBinnedMaps('/maps/exposure', cur_dir, my_iebins, ave=True, int32=False, nside=nside)"
   ]
  },
  {
   "cell_type": "code",
   "execution_count": null,
   "metadata": {},
   "outputs": [],
   "source": [
    "pscmask=np.array(np.load('/tigress/somalwar/Subhaloes/Subhalos/fermi_data/fermidata_pscmask.npy'), dtype=bool)\n",
    "mask = cm.make_mask_total(band_mask = True, band_mask_range = 5, mask_ring = True, inner = 20, outer = 180, custom_mask = pscmask)"
   ]
  },
  {
   "cell_type": "code",
   "execution_count": null,
   "metadata": {},
   "outputs": [],
   "source": [
    "best_fit_params = []\n",
    "subhalos = np.load(cur_dir+'/fermi_data/EinastoTemplate.npy')\n",
    "subhalos = subhalos/np.mean(subhalos)\n",
    "for ib in range(len(my_iebins)-1):\n",
    "    subMC_t = np.zeros(npix)\n",
    "    it = 0\n",
    "    while(True):\n",
    "        try:\n",
    "            subMC_t += np.load(cur_dir+\"/SubhaloMC/subhaloMC_ExactJ_Einasto_iebins-\"+str(my_iebins[ib])+\"to\"+str(my_iebins[ib+1])+\"_m-\"+str(mass)+\"GeV_x-\"+str(xi)+\"_\"+str(it)+\"_\"+str(t)+\".npy\")\n",
    "            it+=1\n",
    "        except:\n",
    "            break\n",
    "    subMC_t = np.mean(exposure_ebins[ib]) * subMC_t\n",
    "    subMC_t[subMC_t > 1000] = 0\n",
    "\n",
    "    n = nptfit.NPTF(tag='fit')\n",
    "    sig = np.round(subMC_t).astype(np.int32)\n",
    "    sig[ sig > 1000 ] = 0\n",
    "    n.load_data(sig.copy(), exposure_ebins[ib].copy())\n",
    "    n.load_mask(mask) \n",
    "    \n",
    "    subhalos_copy = subhalos.copy()\n",
    "    n.add_template(subhalos_copy, 'subhalos', units='PS')\n",
    "    n.add_non_poiss_model( 'subhalos',\n",
    "                           ['$A^\\mathrm{ps}_\\mathrm{iso}$','$n_1$','$n_2$', '$n_3$', '$n_4$', '$S_b1$', '$S_b2$', '$S_b3'],\n",
    "                           [[-10, -1],[2.05, 10],[-3, 3],[-3,3],[-15.0, 1.95],[1, 5000], [0, 1], [0, 1]],\n",
    "                           [True,False,False, False, False, False, False, False],\n",
    "                           dnds_model='specify_relative_breaks' )\n",
    "    \n",
    "    n.configure_for_scan();\n",
    "    \n",
    "    def ll(args):\n",
    "        A, n1, n2, n3, n4, Fb2, Fb3 = args\n",
    "        Fb1 = 1000\n",
    "        return -n.ll([A, n1, n2, n3, n4, Fb1, Fb2, Fb3])\n",
    "    \n",
    "    scipy_min = minimize( ll, [-6, 10, 0.1, 0.1, 0.1, 0.1, 0.1], \n",
    "                         method=\"SLSQP\", \n",
    "                         bounds = [ [-10, -2], [2.05, 15], [-3,3], [-3,3], [-15, 1.95], [0.01, 0.3], [0.01, 0.3] ], \n",
    "                         options={'ftol':1e-15, 'eps':1e-5, 'maxiter':5000, 'disp':True} )\n",
    "    max_LL = -scipy_min.fun\n",
    "    best_fit_params.append( np.array( [scipy_min.x[0], scipy_min.x[1], scipy_min.x[2], scipy_min.x[3], scipy_min.x[4], scipy_min.x[5], scipy_min.x[6] ]))\n",
    "    np.save(cur_dir+\"/SCD/subSCD_arr_iebins-\"+str(my_iebins[ib])+\"to\"+str(my_iebins[ib+1])+\"_m-\"+str(marr[0])+\"GeV_x-\"+str(xsec)+\"_\"+str(trial), best_fit_params)\n"
   ]
  }
 ],
 "metadata": {
  "kernelspec": {
   "display_name": "Python 3",
   "language": "python",
   "name": "python3"
  },
  "language_info": {
   "codemirror_mode": {
    "name": "ipython",
    "version": 3
   },
   "file_extension": ".py",
   "mimetype": "text/x-python",
   "name": "python",
   "nbconvert_exporter": "python",
   "pygments_lexer": "ipython3",
   "version": "3.6.5"
  }
 },
 "nbformat": 4,
 "nbformat_minor": 2
}
