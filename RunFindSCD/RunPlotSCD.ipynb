{
 "cells": [
  {
   "cell_type": "code",
   "execution_count": null,
   "metadata": {},
   "outputs": [],
   "source": [
    "import sys, os\n",
    "import numpy as np\n",
    "import matplotlib\n",
    "import matplotlib.pyplot as plt\n",
    "%matplotlib inline\n",
    "\n",
    "# NPTFit modules\n",
    "from NPTFit import create_mask as cm\n",
    "\n",
    "cur_dir = '/tigress/somalwar/SubhalosFresh/'\n",
    "sys.path.append(cur_dir)\n",
    "sys.path.append(cur_dir+\"/Code/\")\n",
    "# My Functions\n",
    "import PowerLaw\n",
    "from AssortedFunctions import getEnergyBinnedMaps, myLog"
   ]
  },
  {
   "cell_type": "code",
   "execution_count": null,
   "metadata": {},
   "outputs": [],
   "source": [
    "nside=128\n",
    "my_iebins = [10, 15, 20, 40]\n",
    "exposure_ebins = getEnergyBinnedMaps('/maps/exposure', cur_dir, my_iebins, ave=True, int32=False, nside=nside)\n",
    "\n",
    "pscmask = np.array(np.load(cur_dir+'/fermi_data/fermidata_pscmask.npy'), dtype=bool)\n",
    "mask = cm.make_mask_total(band_mask = True, band_mask_range = 5, mask_ring = True, inner = 20, outer = 180, custom_mask = pscmask)\n",
    "area_rat = (len(mask[~mask]))/len(mask)\n",
    "\n",
    "subhalos = np.load(cur_dir+'/fermi_data/EinastoTemplate.npy')\n",
    "subhalos = subhalos/np.mean(subhalos)\n"
   ]
  },
  {
   "cell_type": "code",
   "execution_count": null,
   "metadata": {},
   "outputs": [],
   "source": [
    "def convert_SCD_to_powerlaw_form3(best_fit_params):\n",
    "    best_fit_params[0] = 10**best_fit_params[0]\n",
    "    best_fit_params[-2] = best_fit_params[-3]*best_fit_params[-2]\n",
    "    best_fit_params[-1] = best_fit_params[-2]*best_fit_params[-1]\n",
    "    best_fit_params = np.array(best_fit_params*np.array([np.average(exposure_ebins[ib][~mask]/area_rat/(4*np.pi * (180/np.pi)**2)*np.sum(subhalos[~mask])), 1., 1., 1., 1., 1/np.average(exposure_ebins[ib][~mask\n",
    "    ]), 1/np.average(exposure_ebins[ib][~mask]), 1/np.average(exposure_ebins[ib][~mask])]))\n",
    "    best_fit_params[0] = np.log10(best_fit_params[0])\n",
    "    best_fit_params[-3:] = np.log10(best_fit_params[-3:])\n",
    "    best_fit_params[-1] = np.abs(best_fit_params[-2]) + best_fit_params[-1]\n",
    "    best_fit_params[-2] = np.abs(best_fit_params[-3]) + best_fit_params[-2]\n",
    "    return best_fit_params\n",
    "\n",
    "def convert_SCD_to_powerlaw_form2(best_fit_params):\n",
    "    best_fit_params[0] = 10**best_fit_params[0]\n",
    "    best_fit_params[-1] = best_fit_params[-2]*best_fit_params[-1]\n",
    "    best_fit_params = np.array(best_fit_params*np.array([np.average(exposure_ebins[ib][~mask]/area_rat/(4*np.pi * (180/np.pi)**2)*np.sum(subhalos[~mask])), 1., 1., 1., 1/np.average(exposure_ebins[ib][~mask]), 1/np.average(exposure_ebins[ib][~mask])]))\n",
    "    best_fit_params[0] = np.log10(best_fit_params[0])\n",
    "    best_fit_params[-2:] = np.log10(best_fit_params[-2:])\n",
    "    best_fit_params[-1] = np.abs(best_fit_params[-2]) + best_fit_params[-1]\n",
    "    return best_fit_params"
   ]
  },
  {
   "cell_type": "code",
   "execution_count": null,
   "metadata": {},
   "outputs": [],
   "source": [
    "F_test = np.logspace(-12,6,5000)\n",
    "ib = 0\n",
    "best_fit_params = np.load(cur_dir+\"/SCD/blazSCD_iebins-15to20_0.npy\")\n",
    "print(best_fit_params)\n",
    "print(best_fit_params[0])\n",
    "best_fit_params_med = convert_SCD_to_powerlaw_form2(best_fit_params)\n",
    "plt.plot(myLog(F_test), 2*myLog(F_test)+PowerLaw.simple_power(myLog(F_test), False, *best_fit_params_med), zorder=5, linewidth=3, c=\"blue\", alpha=0.7, label=\"NFW, Point Source\") "
   ]
  },
  {
   "cell_type": "code",
   "execution_count": null,
   "metadata": {},
   "outputs": [],
   "source": []
  }
 ],
 "metadata": {
  "kernelspec": {
   "display_name": "Python 3",
   "language": "python",
   "name": "python3"
  },
  "language_info": {
   "codemirror_mode": {
    "name": "ipython",
    "version": 3
   },
   "file_extension": ".py",
   "mimetype": "text/x-python",
   "name": "python",
   "nbconvert_exporter": "python",
   "pygments_lexer": "ipython3",
   "version": "3.6.5"
  }
 },
 "nbformat": 4,
 "nbformat_minor": 2
}
