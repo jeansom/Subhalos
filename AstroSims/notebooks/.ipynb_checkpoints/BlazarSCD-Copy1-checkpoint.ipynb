{
 "cells": [
  {
   "cell_type": "code",
   "execution_count": 1,
   "metadata": {},
   "outputs": [],
   "source": [
    "# Load modules and stuff\n",
    "\n",
    "import sys, os\n",
    "sys.path.append(\"../code/\")\n",
    "\n",
    "from constants import *\n",
    "import sources as sc\n",
    "\n",
    "import numpy as np\n",
    "import matplotlib.pyplot as plt\n",
    "from tqdm import *\n",
    "from joblib import Parallel, delayed  \n",
    "import multiprocessing\n",
    "\n",
    "%matplotlib inline\n",
    "%load_ext autoreload\n",
    "%autoreload 2"
   ]
  },
  {
   "cell_type": "code",
   "execution_count": 24,
   "metadata": {
    "collapsed": true
   },
   "outputs": [],
   "source": [
    "# Ignore integration warnings\n",
    "\n",
    "import warnings \n",
    "warnings.filterwarnings(\"ignore\") "
   ]
  },
  {
   "cell_type": "markdown",
   "metadata": {},
   "source": [
    "# Blazars"
   ]
  },
  {
   "cell_type": "code",
   "execution_count": 3,
   "metadata": {},
   "outputs": [],
   "source": [
    "# Initialize luminosity function class for blazars (here, BL Lacs and FSRQs based on 1501.05301)\n",
    "# Simplifying assumptions here: Single power law energy spectrum, no EBL attenuation\n",
    "\n",
    "LF_BL = sc.LuminosityFunctionBL(model='blazars', ebl=False, sed='pl', lcut=False)"
   ]
  },
  {
   "cell_type": "markdown",
   "metadata": {},
   "source": [
    "## Spectrum"
   ]
  },
  {
   "cell_type": "code",
   "execution_count": 4,
   "metadata": {},
   "outputs": [
    {
     "name": "stdout",
     "output_type": "stream",
     "text": [
      "Calculating on 28 cores...\n"
     ]
    }
   ],
   "source": [
    "# Get intensity spectrum\n",
    "\n",
    "E_vals = np.logspace(np.log10(0.1),np.log10(100),48)*GeV # Energies to scan over\n",
    "\n",
    "# E_vals = [int(E) for E in np.linspace(1,100,99)*GeV] # Energies to scan over\n",
    "\n",
    "def return_BL_spec(E): # Just a wrapper for multi-core calculation\n",
    "    return LF_BL.dIdE(E)\n",
    "\n",
    "num_cores = multiprocessing.cpu_count() \n",
    "print \"Calculating on\", str(num_cores), \"cores...\"\n",
    "\n",
    "dIdE_BL_vals = Parallel(n_jobs=num_cores)(delayed(return_BL_spec)(E) for E in E_vals)  \n",
    "\n",
    "# Set spectrum values for interpolation\n",
    "# LF_BL.set_dIdE(E_vals, dIdE_BL_vals)"
   ]
  },
  {
   "cell_type": "code",
   "execution_count": 23,
   "metadata": {},
   "outputs": [
    {
     "data": {
      "text/plain": [
       "<matplotlib.text.Text at 0x7fda3f4ae290>"
      ]
     },
     "execution_count": 23,
     "metadata": {},
     "output_type": "execute_result"
    },
    {
     "data": {
      "image/png": "[encoded data removed]",
      "text/plain": [
       "<matplotlib.figure.Figure at 0x7fda3f2801d0>"
      ]
     },
     "metadata": {},
     "output_type": "display_data"
    }
   ],
   "source": [
    "# Plot spectrum \n",
    "\n",
    "plt.plot(np.array(E_vals)/GeV, np.array([(np.array(E))**2*(dIdE_BL)/(Centimeter**-2*Sec**-1*GeV**1) for E,dIdE_BL in zip(E_vals,dIdE_BL_vals)]))\n",
    "\n",
    "plt.ylim(10**-8,2*10**-6)\n",
    "plt.xlim(10**-1,10**2)\n",
    "\n",
    "plt.xscale(\"log\")\n",
    "plt.yscale(\"log\")\n",
    "plt.xlabel(r'$E$ [GeV]')\n",
    "plt.ylabel(r'$dI/dE$ [GeV cm$^{-2}$ s$^{-1}$ sr$^{-1}$]')\n",
    "\n",
    "plt.title(\"Blazars\")"
   ]
  },
  {
   "cell_type": "markdown",
   "metadata": {},
   "source": [
    "## Source count"
   ]
  },
  {
   "cell_type": "code",
   "execution_count": 7,
   "metadata": {
    "collapsed": true
   },
   "outputs": [],
   "source": [
    "# Define energy bins\n",
    "\n",
    "CTB_en_bins = 10**np.linspace(np.log10(0.2), np.log10(2000),41)\n",
    "CTB_bin_centers = [10**((np.log10(CTB_en_bins[i])+np.log10(CTB_en_bins[i+1]))/2) for i in range(len(CTB_en_bins)-1)]\n",
    "CTB_bin_widths = [CTB_en_bins[i+1]-CTB_en_bins[i] for i in range(len(CTB_en_bins)-1)]"
   ]
  },
  {
   "cell_type": "code",
   "execution_count": 8,
   "metadata": {
    "collapsed": true
   },
   "outputs": [],
   "source": [
    "# List of bins to get source counts for\n",
    "\n",
    "bins = [10,20]"
   ]
  },
  {
   "cell_type": "code",
   "execution_count": 9,
   "metadata": {},
   "outputs": [
    {
     "name": "stderr",
     "output_type": "stream",
     "text": [
      "\r",
      "  0%|          | 0/1 [00:00<?, ?it/s]"
     ]
    },
    {
     "name": "stdout",
     "output_type": "stream",
     "text": [
      "Calculating on 28 cores...\n",
      "Now doing bins 10 to 20\n"
     ]
    },
    {
     "name": "stderr",
     "output_type": "stream",
     "text": [
      "100%|██████████| 1/1 [00:30<00:00, 30.57s/it]\n"
     ]
    }
   ],
   "source": [
    "# Get theoretical source counts in the different bins defined above\n",
    "\n",
    "dNdF_BL_vals = [[] for i in range(len(bins)-1)]\n",
    "\n",
    "F_vals_bl = np.logspace(-14,-6,28)*Centimeter**-2*Sec**-1 # Flux values to scan over\n",
    "\n",
    "def return_BL_dNdF(F, E1, E2): # Just a wrapper for multi-core calculation\n",
    "    return LF_BL.dNdFp(F,E1,E2)\n",
    "\n",
    "num_cores = multiprocessing.cpu_count() \n",
    "print \"Calculating on\", str(num_cores), \"cores...\"\n",
    "\n",
    "for i in tqdm_notebook(range(len(bins)-1)):\n",
    "    print \"Now doing bins\", bins[i], \"to\", bins[i+1]\n",
    "    dNdF_BL_vals[i] = Parallel(n_jobs=num_cores)(delayed(return_BL_dNdF)(F,CTB_en_bins[bins[i]]*GeV,CTB_en_bins[bins[i+1]]*GeV) for F in F_vals_bl) \n",
    "    "
   ]
  },
  {
   "cell_type": "code",
   "execution_count": 22,
   "metadata": {},
   "outputs": [
    {
     "data": {
      "text/plain": [
       "<matplotlib.text.Text at 0x7fda3f427690>"
      ]
     },
     "execution_count": 22,
     "metadata": {},
     "output_type": "execute_result"
    },
    {
     "data": {
      "image/png": "[encoded data removed]",
      "text/plain": [
       "<matplotlib.figure.Figure at 0x7fda3f440110>"
      ]
     },
     "metadata": {},
     "output_type": "display_data"
    }
   ],
   "source": [
    "i = 0 # Which SCD to plot\n",
    "\n",
    "plt.plot(F_vals_bl/(Centimeter**-2*Sec**-1),F_vals_bl**2*dNdF_BL_vals[i]/(Centimeter**-2*Sec**-1)/srdeg2)\n",
    "\n",
    "plt.xscale(\"log\")\n",
    "plt.yscale(\"log\")\n",
    "plt.xlim(3e-15,2e-6)\n",
    "plt.ylim(1e-15,1e-11)     \n",
    "plt.xlabel('$F$  [photons\\,cm$^{-2}$\\,s$^{-1}$]', fontsize=18)\n",
    "plt.ylabel('$F^2 dN/dF$  [photons\\,cm$^{-2}$\\,s$^{-1}$\\,deg$^{-2}$]', fontsize=18)\n",
    "plt.title(\"Blazars, $E$ = \"  + str(CTB_en_bins[bins[i]]) + \"--\" + str(CTB_en_bins[bins[i+1]]) + '\\,GeV')"
   ]
  },
  {
   "cell_type": "code",
   "execution_count": null,
   "metadata": {
    "collapsed": true
   },
   "outputs": [],
   "source": []
  }
 ],
 "metadata": {
  "anaconda-cloud": {},
  "kernelspec": {
   "display_name": "Python [conda env:venv_py27]",
   "language": "python",
   "name": "conda-env-venv_py27-py"
  },
  "language_info": {
   "codemirror_mode": {
    "name": "ipython",
    "version": 2
   },
   "file_extension": ".py",
   "mimetype": "text/x-python",
   "name": "python",
   "nbconvert_exporter": "python",
   "pygments_lexer": "ipython2",
   "version": "2.7.12"
  }
 },
 "nbformat": 4,
 "nbformat_minor": 2
}
