{
 "cells": [
  {
   "cell_type": "code",
   "execution_count": null,
   "metadata": {},
   "outputs": [],
   "source": [
    "import numpy as np\n",
    "import matplotlib\n",
    "import matplotlib.pyplot as plt\n",
    "%matplotlib inline"
   ]
  },
  {
   "cell_type": "code",
   "execution_count": null,
   "metadata": {},
   "outputs": [],
   "source": [
    "cur_dir = '/tigress/somalwar/SubhalosFresh/'"
   ]
  },
  {
   "cell_type": "code",
   "execution_count": null,
   "metadata": {},
   "outputs": [],
   "source": [
    "trials = 5\n",
    "mass = 100"
   ]
  },
  {
   "cell_type": "code",
   "execution_count": null,
   "metadata": {},
   "outputs": [],
   "source": [
    "xi_a = [1e-22] #np.concatenate((np.logspace(-30, -25, 15), np.logspace(-25, -15, 30)[1:] ))\n",
    "xt_a = [1e-22] #np.logspace(-23, -15, 25)\n",
    "xr_a = np.empty((trials, len(xi_a)))\n",
    "xm_a = np.empty((trials, len(xi_a)))\n",
    "TSm_a = np.empty((trials, len(xi_a)))"
   ]
  },
  {
   "cell_type": "code",
   "execution_count": null,
   "metadata": {},
   "outputs": [],
   "source": [
    "for t in range(trials):\n",
    "    for ixi, xi in enumerate(xi_a):\n",
    "        ll_at = np.empty(len(xt_a))\n",
    "        for ixt, xt in enumerate(xt_a):\n",
    "            try:\n",
    "                ll_f = np.load(cur_dir+\"/Limits/ll_m-\"+str(mass)+\"GeV_x-\"+str(xi)+\"_\"+str(trial)+\".npy\")\n",
    "                ll_at[ixt] = ll_f[-1]\n",
    "            except:\n",
    "                ll_at[ixt] = -999\n",
    "\n",
    "        TS_at = 2*(ll_at - ll_at[0])\n",
    "        iTSm_t = np.argmax(TS_at)\n",
    "        TSm_t = TS_at[iTSm_t]\n",
    "        xm_t = xt_a[iTSm_t]\n",
    "        xr_t = 1e-50\n",
    "        for ix in range(int(TSm_t), len(xt_a)):\n",
    "            TSd_at = TS_at[ix:] - TSm_t\n",
    "            if np.all(TSd_at < -2.71):\n",
    "                scale = (TS_at[ix-1]-TSm_t+2.71)/(TS_at[ix-1]-TS_at[ix])\n",
    "                xr_t = xt_a[ix-1] + scale*(xt_a[ix] - xt_a[ix-1])\n",
    "                break\n",
    "        xr_a[t][ixi] = xr_t\n",
    "        xm_a[t][ixi] = xm_t\n",
    "        TSm_a[t][ixi] = TSm_t"
   ]
  },
  {
   "cell_type": "code",
   "execution_count": null,
   "metadata": {},
   "outputs": [],
   "source": [
    "xra_a = np.percentile(xr_a, 50, axis=0)\n",
    "xru_a = np.percentile(xr_a, 84, axis=0)\n",
    "xrd_a = np.percentile(xr_a, 16, axis=0)\n",
    "\n",
    "xma_a = np.percentile(xm_a, 50, axis=0)\n",
    "xmu_a = np.percentile(xm_a, 84, axis=0)\n",
    "xmd_a = np.percentile(xm_a, 16, axis=0)\n",
    "\n",
    "TSma_a = np.percentile(TSm_a, 50, axis=0)\n",
    "TSmu_a = np.percentile(TSm_a, 84, axis=0)\n",
    "TSmd_a = np.percentile(TSm_a, 16, axis=0)"
   ]
  },
  {
   "cell_type": "code",
   "execution_count": null,
   "metadata": {},
   "outputs": [],
   "source": [
    "fig, ax1 = plt.subplots()\n",
    "\n",
    "ax1.plot(xi_a, xra_a, c=\"green\", label=\"$\\langle\\sigma v \\\\rangle_{Limit}$\")\n",
    "ax1.fill_between(xi_a, xrd_a, xru_a, facecolor=\"green\", alpha=0.3)\n",
    "ax1.plot(xi_a, xma_a, c=\"dodgerblue\", label=\"$\\langle\\sigma v \\\\rangle_{TS_{max}}$\")\n",
    "ax1.fill_between(xi_a, xmd_a, xmu_a, facecolor=\"dodgerblue\", alpha=0.3)\n",
    "ax1.plot(xt_a, xt_a, linestyle=\"--\", c=\"grey\")\n",
    "ax1.set_title(\"$m_{\\chi}$ = \"+str(int(mass))+\" GeV\")\n",
    "ax1.set_yscale(\"log\"); ax1.set_xscale(\"log\")\n",
    "ax1.set_xlabel(\"$\\langle\\sigma v \\\\rangle_{inj}$\"); ax1.set_ylabel(\"$\\langle\\sigma v \\\\rangle_{rec}$\")\n",
    "ax1.legend(frameon=False)\n",
    "\n",
    "left, bottom, width, height = [0.59, 0.20, 0.3, 0.3]\n",
    "ax2 = fig.add_axes([left, bottom, width, height])\n",
    "\n",
    "ax2.plot(xsec_inj, TSma_a, c=\"red\")\n",
    "ax2.fill_between(xi_a, TSmd_a, TSmu_a, facecolor=\"red\", alpha=0.3)\n",
    "ax2.set_yscale(\"log\"); ax2.set_xscale(\"log\")\n",
    "ax2.set_xlim(1e-23,1e-17); ax2.set_ylim(1e-3, 1e3)\n",
    "ax2.set_ylabel(\"$TS_{max}$\")"
   ]
  },
  {
   "cell_type": "code",
   "execution_count": null,
   "metadata": {},
   "outputs": [],
   "source": []
  }
 ],
 "metadata": {
  "kernelspec": {
   "display_name": "Python 3",
   "language": "python",
   "name": "python3"
  },
  "language_info": {
   "codemirror_mode": {
    "name": "ipython",
    "version": 3
   },
   "file_extension": ".py",
   "mimetype": "text/x-python",
   "name": "python",
   "nbconvert_exporter": "python",
   "pygments_lexer": "ipython3",
   "version": "3.6.5"
  }
 },
 "nbformat": 4,
 "nbformat_minor": 2
}
