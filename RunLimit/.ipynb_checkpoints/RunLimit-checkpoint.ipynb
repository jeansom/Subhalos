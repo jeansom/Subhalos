{
 "cells": [
  {
   "cell_type": "code",
   "execution_count": null,
   "metadata": {},
   "outputs": [],
   "source": [
    "args = \"{'xsec_inj': 1e-22, 'tag': 'test', 'trial': 0, 'mass': 100, 'xsec_t': 1e-22}\"\n"
   ]
  },
  {
   "cell_type": "code",
   "execution_count": null,
   "metadata": {},
   "outputs": [],
   "source": [
    "import ast\n",
    "args = ast.literal_eval(args)\n",
    "\n",
    "cur_dir = '/tigress/somalwar/SubhalosFresh/'"
   ]
  },
  {
   "cell_type": "code",
   "execution_count": null,
   "metadata": {},
   "outputs": [],
   "source": [
    "# Tigress dirs\n",
    "import os, sys\n",
    "import copy\n",
    "\n",
    "import numpy as np\n",
    "import healpy as hp\n",
    "from scipy.interpolate import interp1d\n",
    "from scipy.integrate import quad\n",
    "from scipy.optimize import minimize\n",
    "\n",
    "# NPTFit modules\n",
    "from NPTFit import nptfit\n",
    "from NPTFit import create_mask as cm\n",
    "\n",
    "sys.path.append(cur_dir)\n",
    "sys.path.append(cur_dir+\"/Code/\")\n",
    "# My Modules\n",
    "from Recxsec_modules_NP import getNPTFitLL\n",
    "from AssortedFunctions import getEnergyBinnedMaps, getPPnoxsec"
   ]
  },
  {
   "cell_type": "code",
   "execution_count": null,
   "metadata": {},
   "outputs": [],
   "source": [
    "nside = 128\n",
    "ebins = 2*np.logspace(-1,3,41)[0:41]\n",
    "my_iebins = [10, 15, 20, 40]"
   ]
  },
  {
   "cell_type": "code",
   "execution_count": null,
   "metadata": {},
   "outputs": [],
   "source": [
    "xi = args[\"xsec_inj\"]\n",
    "xt = args[\"xsec_t\"]\n",
    "tag = args[\"tag\"]\n",
    "mass = float(args[\"mass\"])\n",
    "trial = int(args[\"trial\"])\n",
    "Nb = 3"
   ]
  },
  {
   "cell_type": "code",
   "execution_count": null,
   "metadata": {},
   "outputs": [],
   "source": [
    "SCDp_a, SCDx_a, SCDblaz_a = [], [], []\n",
    "for ib in range(len(my_iebins)-1):\n",
    "    SCDp_a.append(np.load(cur_dir+\"/SCD/subSCD_par_iebins-\"+str(my_iebins[ib])+\"to\"+str(my_iebins[ib+1])+\"_m-\"+str(mass)+\"GeV_x-\"+str(xt)+\".npy\"))\n",
    "    SCDx_a.append(np.load(cur_dir+\"/SCD/subSCD_xsec_iebins-\"+str(my_iebins[ib])+\"to\"+str(my_iebins[ib+1])+\"_m-\"+str(mass)+\"GeV_x-\"+str(xt)+\".npy\"))\n",
    "    SCDblaz_a.append(np.load(cur_dir+\"/SCD/blazSCD_par_iebins-\"+str(my_iebins[ib])+\"to\"+str(my_iebins[ib+1])+\".npy\"))\n"
   ]
  },
  {
   "cell_type": "code",
   "execution_count": null,
   "metadata": {},
   "outputs": [],
   "source": [
    "exp_a = getEnergyBinnedMaps('/maps/exposure', cur_dir, my_iebins, ave=True, int32=False, nside=nside)\n",
    "dif_a = getEnergyBinnedMaps('/maps/dif', cur_dir, my_iebins, ave=False, int32=False, nside=nside)\n",
    "iso_a = getEnergyBinnedMaps('/maps/iso', cur_dir, my_iebins, ave=False, int32=False, nside=nside)\n",
    "psc_a = getEnergyBinnedMaps('/maps/psc', cur_dir, my_iebins, ave=False, int32=False, nside=nside)"
   ]
  },
  {
   "cell_type": "code",
   "execution_count": null,
   "metadata": {},
   "outputs": [],
   "source": [
    "chan = 'b'\n",
    "PPnox_a = np.array(getPPnoxsec(mass, chan, my_iebins, cur_dir))\n",
    "x0 = 1e-22"
   ]
  },
  {
   "cell_type": "code",
   "execution_count": null,
   "metadata": {},
   "outputs": [],
   "source": [
    "stemp_a = np.load(cur_dir+'/fermi_data/EinastoTemplate.npy')\n",
    "stemp_a = stemp_a/np.mean(stemp_a)"
   ]
  },
  {
   "cell_type": "code",
   "execution_count": null,
   "metadata": {},
   "outputs": [],
   "source": [
    "pscmask_a = np.array(np.load(cur_dir+'/fermi_data/fermidata_pscmask.npy'), dtype=bool)\n",
    "mask_a = cm.make_mask_total(band_mask = True, band_mask_range = 5, mask_ring = True, inner = 20, outer = 180, custom_mask = pscmask_a)"
   ]
  },
  {
   "cell_type": "code",
   "execution_count": null,
   "metadata": {},
   "outputs": [],
   "source": [
    "data_a = []\n",
    "for ib, b in enumerate(my_iebins[:-1]):\n",
    "    data_at = np.load(cur_dir+\"/MC/MC_ExactJ_Einasto_iebins-\"+str(my_iebins[ib])+\"to\"+str(my_iebins[ib+1])+\"_m-\"+str(mass)+\"GeV_x-\"+str(xi)+\"_\"+str(trial)+\".npy\")\n",
    "    data_at[data_at > 1000] = 0\n",
    "    data_a.append(data_at)\n",
    "\n",
    "tag = tag + \"_\" + str(xt)+\"_\"\n",
    "bkg_arr = []\n",
    "bkg_arr_np = []\n",
    "for ib in range(len(my_iebins)-1):\n",
    "    bkg_arr.append([ [ dif_a[ib], 'dif'], [iso_a[ib], 'iso']] )\n",
    "    bkg_arr_np.append([np.ones(len(dif_a[ib])), 'blaz'])"
   ]
  },
  {
   "cell_type": "code",
   "execution_count": null,
   "metadata": {},
   "outputs": [],
   "source": [
    "ll_a, A_a, Fb_a, n_a = [], [], [], []\n",
    "for ib, b in enumerate(my_iebins[:-1]):\n",
    "    ll_at, A_at, Fb_at, n_at = [], [], [], []\n",
    "    \n",
    "    for ix in range(len(SCDp_a[ib])):\n",
    "        ll_t, A_t, Fb_t, n_t = getNPTFitLL( [data_a[ib]], [exp_a[ib]], mask_a, Nb, tag, [bkg_arr[ib]], [bkg_arr_np[ib]], stemp_a.copy(), False, True, *SCDp_a[ib][ix] )\n",
    "        ll_at.append(ll_t[0])\n",
    "        A_at.append(A_t[0])\n",
    "        Fb_at.append(Fb_t[0])\n",
    "        n_at.append(n_t[0])\n",
    "        \n",
    "    ll_a.append(np.array(ll_at))\n",
    "    A_a.append(np.array(A_at))\n",
    "    Fb_a.append(np.array(Fb_at))\n",
    "    n_a.append(np.array(n_at))"
   ]
  },
  {
   "cell_type": "code",
   "execution_count": null,
   "metadata": {},
   "outputs": [],
   "source": [
    "def ll_f( ib, ix, A_dif, A_iso, A_psc, Ab, n1b, n2b, n3b, Fb1b, Fb2b, Ab_sig, Fb1_sig, Fb2_sig, Fb3_sig ): \n",
    "    return -ll_a[ib][ix]([ A_dif, A_iso, Ab, n1b, n2b, n3b, Fb1b, Fb2b, Ab_sig, Fb1_sig, Fb2_sig, Fb3_sig ])\n"
   ]
  },
  {
   "cell_type": "code",
   "execution_count": null,
   "metadata": {},
   "outputs": [],
   "source": [
    "llv_a = []\n",
    "ll_t = 0\n",
    "for ib in range(len(my_iebins)-1):\n",
    "    if PPnox_a[ib] != 0:\n",
    "        ix_t = np.argmin(np.abs(SCDx_a[ib] - xt))\n",
    "        fac_t = xt/SCDx_a[ib][ix_t]\n",
    "        Fb_at = (np.array(Fb_a[ib][ix_t])*((xt/SCDx_a[ib][ix_t])))\n",
    "\n",
    "        sm_t = minimize( lambda args: ll_f(ib, ix_t, args[0], args[1], 0.1, args[2]+SCDblaz_a[ib][0]-0.1, SCDblaz_a[ib][1],\\\n",
    "                                                          args[3]+SCDblaz_a[ib][2]-0.1, SCDblaz_a[ib][3], SCDblaz_a[ib][4], SCDblaz_a[ib][5],\\\n",
    "                                                          A_a[ib][ix_t]/((xt/SCDx_a[ib][ix_t])),\\\n",
    "                                                          Fb_at[0], Fb_at[1], Fb_at[2]),\n",
    "                             \n",
    "                             [0.1, 0.1, 0.1, 0.1 ],\n",
    "                             bounds = [ [0,10], [0,10], [-3, 3], [-3, 3] ],\n",
    "                             method=\"L-BFGS-B\", \n",
    "                             options={'maxiter':10000, 'ftol': 1e-10, 'eps':1e-5, 'disp':True} )\n",
    "        ll_t += -sm_t.fun\n",
    "    llv_a.append(ll_t)\n",
    "llv_a = np.array(llv_a)\n",
    "np.save(cur_dir+\"/Limits/ll_m-\"+str(mass)+\"GeV_x-\"+str(xi)+\"_\"+str(trial), llv_a)\n"
   ]
  }
 ],
 "metadata": {
  "kernelspec": {
   "display_name": "Python 3",
   "language": "python",
   "name": "python3"
  },
  "language_info": {
   "codemirror_mode": {
    "name": "ipython",
    "version": 3
   },
   "file_extension": ".py",
   "mimetype": "text/x-python",
   "name": "python",
   "nbconvert_exporter": "python",
   "pygments_lexer": "ipython3",
   "version": "3.6.5"
  }
 },
 "nbformat": 4,
 "nbformat_minor": 2
}
