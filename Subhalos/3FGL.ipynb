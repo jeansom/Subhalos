{
 "cells": [
  {
   "cell_type": "code",
   "execution_count": 1,
   "metadata": {},
   "outputs": [],
   "source": [
    "%matplotlib inline\n",
    "\n",
    "from astropy.io import fits\n",
    "import matplotlib\n",
    "from matplotlib import pyplot as plt\n",
    "import numpy as np\n",
    "from scipy.interpolate import interp1d\n",
    "from scipy.integrate import quad\n",
    "from tqdm import *"
   ]
  },
  {
   "cell_type": "code",
   "execution_count": 2,
   "metadata": {
    "scrolled": false
   },
   "outputs": [],
   "source": [
    "filename_3fgl = 'gll_psc_v16.fit'\n",
    "hdul_3fgl = fits.open(filename_3fgl)\n",
    "#hdul_3fgl[1].header"
   ]
  },
  {
   "cell_type": "code",
   "execution_count": 3,
   "metadata": {
    "scrolled": false
   },
   "outputs": [],
   "source": [
    "energy_bins = [100,300,1000,3000,10000,100000]\n",
    "flux = []\n",
    "for i in range(len(energy_bins)-1):\n",
    "    flux.append(np.zeros(len(hdul_3fgl[1].data['Flux1000'])))\n",
    "for i in range(len(energy_bins)-1):\n",
    "    #flux[i:]+=np.array(hdul_3fgl[1].data['nuFnu'+str(energy_bins[i])+'_'+str(energy_bins[i+1])])\n",
    "    flux[i:]+=np.array(hdul_3fgl[1].data['Flux'+str(energy_bins[i])+'_'+str(energy_bins[i+1])])"
   ]
  },
  {
   "cell_type": "code",
   "execution_count": 15,
   "metadata": {
    "scrolled": false
   },
   "outputs": [
    {
     "data": {
      "application/vnd.jupyter.widget-view+json": {
       "model_id": "a442e34514c4407eb4888287c0d8886c",
       "version_major": 2,
       "version_minor": 0
      },
      "text/plain": [
       "HBox(children=(IntProgress(value=0, max=3034), HTML(value='')))"
      ]
     },
     "metadata": {},
     "output_type": "display_data"
    },
    {
     "name": "stdout",
     "output_type": "stream",
     "text": [
      "\n"
     ]
    }
   ],
   "source": [
    "flux_tot = []\n",
    "for i in tqdm_notebook(range(len(flux[0]))):\n",
    "    if np.abs(hdul_3fgl[1].data['GLAT'][i]) < 10: \n",
    "        continue\n",
    "    flux_temp = []\n",
    "    for j in range(len(energy_bins)-1):\n",
    "        flux_temp.append(flux[j][i])\n",
    "    flux_interp = interp1d(energy_bins[1:], flux_temp)\n",
    "    flux_tot.append(flux_interp(20e3) - flux_interp(2e3))\n",
    "    #flux_tot.append(hdul_3fgl[1].data['Flux'+str(energy_bins[i])+'_'+str(energy_bins[i+1])])"
   ]
  },
  {
   "cell_type": "code",
   "execution_count": 17,
   "metadata": {},
   "outputs": [
    {
     "name": "stdout",
     "output_type": "stream",
     "text": [
      "-10.862336890472442\n",
      "-9.759519038076153\n"
     ]
    },
    {
     "data": {
      "text/plain": [
       "<matplotlib.legend.Legend at 0x2b55bb46da58>"
      ]
     },
     "execution_count": 17,
     "metadata": {},
     "output_type": "execute_result"
    },
    {
     "data": {
      "image/png": "[encoded data removed]",
      "text/plain": [
       "<Figure size 432x288 with 1 Axes>"
      ]
     },
     "metadata": {},
     "output_type": "display_data"
    }
   ],
   "source": [
    "bins = plt.hist(flux_tot, bins=np.logspace(-13, -6, 500 ), label=\"3FGL\");\n",
    "#plt.axvline(10**(-10.862336890472442), c=\"black\")\n",
    "#plt.axvline(10**(-9.759519038076153), c=\"black\")\n",
    "print(np.log10(min(flux_tot)))\n",
    "print(np.log10(bins[1][np.argmax(bins[0])]))\n",
    "plt.axvline(min(flux_tot), ls=\"--\", c=\"red\", label=\"Min Flux Threshold\")\n",
    "plt.axvline(bins[1][np.argmax(bins[0])], c=\"black\", ls=\"--\", label=\"Max Flux Threshold\")\n",
    "plt.xscale(\"log\")\n",
    "plt.xlabel(\"Flux\")\n",
    "plt.ylabel(\"Counts\")\n",
    "plt.title(\"3FGL Flux Hist\")\n",
    "#plt.yscale(\"log\")\n",
    "#plt.ylim(1, 1e3)\n",
    "plt.xlim(1e-12, 1e-7)\n",
    "plt.legend(frameon=False)"
   ]
  },
  {
   "cell_type": "code",
   "execution_count": 6,
   "metadata": {},
   "outputs": [
    {
     "name": "stdout",
     "output_type": "stream",
     "text": [
      "-9.464929859719438\n"
     ]
    },
    {
     "data": {
      "image/png": "[encoded data removed]",
      "text/plain": [
       "<Figure size 432x288 with 1 Axes>"
      ]
     },
     "metadata": {},
     "output_type": "display_data"
    }
   ],
   "source": [
    "F = bins[1][:-1]\n",
    "dN = bins[0]\n",
    "dF = np.diff(bins[1])\n",
    "plt.axvline(10**(-10.862336890472442), c=\"black\")\n",
    "plt.axvline(10**(-9.759519038076153), c=\"black\")\n",
    "plt.scatter(F, dN)\n",
    "#plt.yscale(\"log\")\n",
    "plt.xscale(\"log\")\n",
    "plt.ylim(0, 300)\n",
    "plt.xlim(1e-13, 1e-6)\n",
    "print(np.log10(F[np.argmax(dN)]))"
   ]
  },
  {
   "cell_type": "code",
   "execution_count": null,
   "metadata": {},
   "outputs": [],
   "source": [
    "plt.plot(F, F**2*dN/dF/(4*np.pi*(180/np.pi)**2))\n",
    "plt.yscale(\"log\")\n",
    "plt.xscale(\"log\")"
   ]
  }
 ],
 "metadata": {
  "kernelspec": {
   "display_name": "Python 3",
   "language": "python",
   "name": "python3"
  },
  "language_info": {
   "codemirror_mode": {
    "name": "ipython",
    "version": 3
   },
   "file_extension": ".py",
   "mimetype": "text/x-python",
   "name": "python",
   "nbconvert_exporter": "python",
   "pygments_lexer": "ipython3",
   "version": "3.6.8"
  }
 },
 "nbformat": 4,
 "nbformat_minor": 2
}
