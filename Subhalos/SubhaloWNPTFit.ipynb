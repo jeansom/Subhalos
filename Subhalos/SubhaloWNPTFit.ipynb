{
 "cells": [
  {
   "cell_type": "code",
   "execution_count": 1,
   "metadata": {},
   "outputs": [
    {
     "ename": "ImportError",
     "evalue": "libimf.so: cannot open shared object file: No such file or directory",
     "output_type": "error",
     "traceback": [
      "\u001b[0;31m---------------------------------------------------------------------------\u001b[0m",
      "\u001b[0;31mImportError\u001b[0m                               Traceback (most recent call last)",
      "\u001b[0;32m<ipython-input-1-4432cfced65e>\u001b[0m in \u001b[0;36m<module>\u001b[0;34m()\u001b[0m\n\u001b[1;32m     21\u001b[0m \u001b[0;34m\u001b[0m\u001b[0m\n\u001b[1;32m     22\u001b[0m \u001b[0;31m# NPTFit modules\u001b[0m\u001b[0;34m\u001b[0m\u001b[0;34m\u001b[0m\u001b[0m\n\u001b[0;32m---> 23\u001b[0;31m \u001b[0;32mfrom\u001b[0m \u001b[0mNPTFit\u001b[0m \u001b[0;32mimport\u001b[0m \u001b[0mnptfit\u001b[0m \u001b[0;31m# module for performing scan\u001b[0m\u001b[0;34m\u001b[0m\u001b[0m\n\u001b[0m\u001b[1;32m     24\u001b[0m \u001b[0;32mfrom\u001b[0m \u001b[0mNPTFit\u001b[0m \u001b[0;32mimport\u001b[0m \u001b[0mcreate_mask\u001b[0m \u001b[0;32mas\u001b[0m \u001b[0mcm\u001b[0m \u001b[0;31m# module for creating the mask\u001b[0m\u001b[0;34m\u001b[0m\u001b[0m\n\u001b[1;32m     25\u001b[0m \u001b[0;32mfrom\u001b[0m \u001b[0mNPTFit\u001b[0m \u001b[0;32mimport\u001b[0m \u001b[0mpsf_correction\u001b[0m \u001b[0;32mas\u001b[0m \u001b[0mpc\u001b[0m \u001b[0;31m# module for determining the PSF correction\u001b[0m\u001b[0;34m\u001b[0m\u001b[0m\n",
      "\u001b[0;32m/group/hepheno/heptools/anaconda3/envs/venv_py35/lib/python3.5/site-packages/NPTFit-0.2-py3.5-linux-x86_64.egg/NPTFit/nptfit.py\u001b[0m in \u001b[0;36m<module>\u001b[0;34m()\u001b[0m\n\u001b[1;32m     11\u001b[0m \u001b[0;32mimport\u001b[0m \u001b[0mnumpy\u001b[0m \u001b[0;32mas\u001b[0m \u001b[0mnp\u001b[0m\u001b[0;34m\u001b[0m\u001b[0m\n\u001b[1;32m     12\u001b[0m \u001b[0;34m\u001b[0m\u001b[0m\n\u001b[0;32m---> 13\u001b[0;31m \u001b[0;32mfrom\u001b[0m \u001b[0;34m.\u001b[0m\u001b[0mnptf_scan\u001b[0m \u001b[0;32mimport\u001b[0m \u001b[0mNPTFScan\u001b[0m  \u001b[0;31m# Sets up and performs the scan\u001b[0m\u001b[0;34m\u001b[0m\u001b[0m\n\u001b[0m\u001b[1;32m     14\u001b[0m \u001b[0;34m\u001b[0m\u001b[0m\n\u001b[1;32m     15\u001b[0m \u001b[0;34m\u001b[0m\u001b[0m\n",
      "\u001b[0;32m/group/hepheno/heptools/anaconda3/envs/venv_py35/lib/python3.5/site-packages/NPTFit-0.2-py3.5-linux-x86_64.egg/NPTFit/nptf_scan.py\u001b[0m in \u001b[0;36m<module>\u001b[0;34m()\u001b[0m\n\u001b[1;32m     22\u001b[0m \u001b[0;32mfrom\u001b[0m \u001b[0mcollections\u001b[0m \u001b[0;32mimport\u001b[0m \u001b[0mOrderedDict\u001b[0m\u001b[0;34m\u001b[0m\u001b[0m\n\u001b[1;32m     23\u001b[0m \u001b[0;34m\u001b[0m\u001b[0m\n\u001b[0;32m---> 24\u001b[0;31m \u001b[0;32mfrom\u001b[0m \u001b[0;34m.\u001b[0m \u001b[0;32mimport\u001b[0m \u001b[0mpll\u001b[0m  \u001b[0;31m# The Poissonian likelihood function\u001b[0m\u001b[0;34m\u001b[0m\u001b[0m\n\u001b[0m\u001b[1;32m     25\u001b[0m \u001b[0;32mfrom\u001b[0m \u001b[0;34m.\u001b[0m \u001b[0;32mimport\u001b[0m \u001b[0mnpll\u001b[0m  \u001b[0;31m# The non-Poissonian likelihood function\u001b[0m\u001b[0;34m\u001b[0m\u001b[0m\n\u001b[1;32m     26\u001b[0m \u001b[0;32mfrom\u001b[0m \u001b[0;34m.\u001b[0m\u001b[0mconfig_maps\u001b[0m \u001b[0;32mimport\u001b[0m \u001b[0mConfigMaps\u001b[0m  \u001b[0;31m# Setup maps and templates for the run\u001b[0m\u001b[0;34m\u001b[0m\u001b[0m\n",
      "\u001b[0;31mImportError\u001b[0m: libimf.so: cannot open shared object file: No such file or directory"
     ]
    }
   ],
   "source": [
    "# Import relevant modules\n",
    "\n",
    "%matplotlib inline\n",
    "%load_ext autoreload\n",
    "%autoreload 2\n",
    "\n",
    "import os\n",
    "import copy\n",
    "\n",
    "import pandas as pd\n",
    "import numpy as np\n",
    "import healpy as hp\n",
    "from scipy.interpolate import interp1d\n",
    "from scipy.integrate import quad\n",
    "from scipy.optimize import minimize\n",
    "from astropy.io import fits\n",
    "from tqdm import *\n",
    "import matplotlib.pyplot as plt\n",
    "import iminuit\n",
    "from iminuit import Minuit, describe, Struct\n",
    "\n",
    "# NPTFit modules\n",
    "from NPTFit import nptfit # module for performing scan\n",
    "from NPTFit import create_mask as cm # module for creating the mask\n",
    "from NPTFit import psf_correction as pc # module for determining the PSF correction"
   ]
  },
  {
   "cell_type": "code",
   "execution_count": null,
   "metadata": {},
   "outputs": [],
   "source": [
    "FermiData = np.load('fermi_data/fermidata_counts.npy').astype(np.int32)\n",
    "fermi_exposure = np.load('fermi_data/fermidata_exposure.npy')\n",
    "dif = np.load('fermi_data/template_dif.npy')\n",
    "iso = np.load('fermi_data/template_iso.npy')\n",
    "psc = np.load('fermi_data/template_psc.npy')\n",
    "subhalos = np.load('EinastoTemplate.npy')\n",
    "subhalos = subhalos\n",
    "hp.mollview(subhalos)"
   ]
  },
  {
   "cell_type": "code",
   "execution_count": null,
   "metadata": {},
   "outputs": [],
   "source": [
    "n = nptfit.NPTF(tag='norm')\n",
    "n.load_data(FermiData, fermi_exposure)\n",
    "\n",
    "pscmask=np.array(np.load('fermi_data/fermidata_pscmask.npy'), dtype=bool)\n",
    "mask = cm.make_mask_total(band_mask = True, band_mask_range = 5, mask_ring = True, inner = 20, outer = 180, custom_mask = pscmask)\n",
    "n.load_mask(mask)\n",
    "\n",
    "n.add_template(dif, 'dif')\n",
    "n.add_template(iso, 'iso')\n",
    "n.add_template(psc, 'psc')\n",
    "\n",
    "n.add_poiss_model('dif', '$A_\\mathrm{dif}$', [0,10], False)\n",
    "n.add_poiss_model('iso', '$A_\\mathrm{iso}$', [0,20], False)\n",
    "n.add_poiss_model('psc', '$A_\\mathrm{psc}$', [0,10], False)\n",
    "\n",
    "xsec0 = 1e-24\n",
    "A0 = 10**(-13.9442)\n",
    "n10 = 0.0238081\n",
    "n20 = 10\n",
    "Fb0 = 10**(-9.71429)\n",
    "\n",
    "xsec_arr = np.logspace(-24, -25, 1)\n",
    "\n",
    "LL_xsec_ary = np.zeros(len(xsec_arr))\n",
    "\n",
    "for ix, xsec in enumerate(xsec_arr):\n",
    "    A = A0 * xsec/xsec0\n",
    "    Fb = Fb0 * xsec0/xsec\n",
    "\n",
    "    new_n = copy.copy(n)\n",
    "    #new_n.add_template(subhalos, 'subhalos', units='PS')\n",
    "    #new_n.add_poiss_model('subhalos', '$A_\\mathrm{sub}$', fixed=True)\n",
    "    #new_n.add_non_poiss_model('subhalos', \n",
    "    #                       ['$A^\\mathrm{ps}_\\mathrm{iso}$','$n_1$','$n_2$','$F_b$'],\n",
    "    #                       fixed_params = [[0, A], [1, n10], [2, n20], [3,Fb]])\n",
    "    new_n.configure_for_scan()\n",
    "    scpy_min = minimize(lambda x: -new_n.ll(x) ,x0=[1.,1.,1.], bounds=[[0,30.], [0,30.], [0,30.]], options={'disp': False, 'ftol':1e-12}, method='SLSQP')\n",
    "    max_LL = -scpy_min['fun']\n",
    "    best_fit_params = scpy_min['x']\n",
    "    print(\"Template best-fit params are\", best_fit_params)\n",
    "    print(\"Max L-L is\", max_LL)\n",
    "    LL_xsec_ary[ix] = max_LL"
   ]
  },
  {
   "cell_type": "code",
   "execution_count": null,
   "metadata": {
    "collapsed": true
   },
   "outputs": [],
   "source": [
    "fake_data = 13.9583217*dif + 1.06289421*iso + 0.90448092*psc\n",
    "fake_data += np.load(\"subhalo_flux_map.npy\")*fermi_exposure\n",
    "fake_data = np.random.poisson(fake_data)\n",
    "fake_data = fake_data.astype(np.int32)"
   ]
  },
  {
   "cell_type": "code",
   "execution_count": null,
   "metadata": {
    "scrolled": false
   },
   "outputs": [],
   "source": [
    "n = nptfit.NPTF(tag='norm')\n",
    "n.load_data(fake_data, fermi_exposure)\n",
    "pscmask=np.array(np.load('fermi_data/fermidata_pscmask.npy'), dtype=bool)\n",
    "mask = cm.make_mask_total(band_mask = True, band_mask_range = 5, mask_ring = True, inner = 20, outer = 180, custom_mask = pscmask)\n",
    "n.load_mask(mask)\n",
    "\n",
    "n.add_template(dif, 'dif')\n",
    "n.add_template(iso, 'iso')\n",
    "n.add_template(psc, 'psc')\n",
    "\n",
    "n.add_poiss_model('dif', '$A_\\mathrm{dif}$', [0,10], False)\n",
    "n.add_poiss_model('iso', '$A_\\mathrm{iso}$', [0,20], False)\n",
    "n.add_poiss_model('psc', '$A_\\mathrm{psc}$', [0,10], False)\n",
    "\n",
    "xsec0 = 1e-24\n",
    "A0 = 10**(-13.9482)\n",
    "n10 = -0.0309105\n",
    "n20 = -10\n",
    "Fb0 = 10**(-9.71429)\n",
    "\n",
    "xsec_arr = np.logspace(-26, -20, 15)\n",
    "LL_xsec_ary = np.zeros(len(xsec_arr))\n",
    "\n",
    "for ix, xsec in tqdm_notebook(enumerate(xsec_arr)):\n",
    "    A = A0 * xsec/xsec0\n",
    "    Fb = Fb0 * xsec/xsec0\n",
    "\n",
    "    new_n = copy.copy(n)\n",
    "    new_n.add_template(subhalos, 'subhalos', units='PS')\n",
    "    new_n.add_poiss_model('subhalos', '$A_\\mathrm{sub}$', fixed=True)\n",
    "    new_n.add_non_poiss_model('subhalos', \n",
    "                           ['$A^\\mathrm{ps}_\\mathrm{iso}$','$n_1$','$n_2$','$F_b$'],\n",
    "                           fixed_params = [[0, A], [1, n10], [2, n20], [3,Fb]], units='flux')\n",
    "    new_n.configure_for_scan()\n",
    "    minuit_min = iminuit.Minuit(lambda d, i, p: -new_n.ll([d, i, p]) , d=0.1, i=0.1, p=0.1, limit_d=(0.,30.), limit_i=(0.,30.), limit_p=(0.,30.), error_d=1.0, error_i=1.0, error_p=1.0, print_level=0);\n",
    "    minuit_min.migrad()\n",
    "    max_LL = -minuit_min.fval\n",
    "    best_fit_params = [minuit_min.values]\n",
    "    print(\"Best Fit Params:\", best_fit_params)\n",
    "    LL_xsec_ary[ix] = max_LL"
   ]
  },
  {
   "cell_type": "code",
   "execution_count": null,
   "metadata": {},
   "outputs": [],
   "source": [
    "hp.mollview(np.log10(1e-30+fakedata), title=\"Mock Data\")"
   ]
  },
  {
   "cell_type": "code",
   "execution_count": null,
   "metadata": {
    "scrolled": false
   },
   "outputs": [],
   "source": [
    "plt.plot(xsec_arr, LL_xsec_ary)\n",
    "print(np.argmax(LL_xsec_ary))\n",
    "#plt.ylim(-1e5, 1e5)\n",
    "print(LL_xsec_ary)\n",
    "plt.xscale(\"log\")\n",
    "#plt.yscale(\"log\")"
   ]
  },
  {
   "cell_type": "code",
   "execution_count": null,
   "metadata": {
    "collapsed": true
   },
   "outputs": [],
   "source": []
  }
 ],
 "metadata": {
  "kernelspec": {
   "display_name": "Python [conda env:venv_py35]",
   "language": "python",
   "name": "conda-env-venv_py35-py"
  },
  "language_info": {
   "codemirror_mode": {
    "name": "ipython",
    "version": 3
   },
   "file_extension": ".py",
   "mimetype": "text/x-python",
   "name": "python",
   "nbconvert_exporter": "python",
   "pygments_lexer": "ipython3",
   "version": "3.5.2"
  }
 },
 "nbformat": 4,
 "nbformat_minor": 2
}
