{
 "cells": [
  {
   "cell_type": "code",
   "execution_count": 1,
   "metadata": {},
   "outputs": [],
   "source": [
    "%matplotlib inline\n",
    "%load_ext autoreload\n",
    "%autoreload 2\n",
    "\n",
    "import os, sys\n",
    "import healpy as hp\n",
    "import numpy as np\n",
    "from scipy.integrate import quad\n",
    "import matplotlib.pyplot as plt\n",
    "from tqdm import *\n",
    "from iminuit import Minuit, describe, Struct\n",
    "from scipy.interpolate import interp1d\n",
    "from scipy.special import gammaln\n",
    "import pandas as pd\n",
    "\n",
    "sys.path.append(\"/tigress/somalwar/Subhaloes/Subhalos/Modules/\")\n",
    "# My Functions\n",
    "import AssortedFunctions\n",
    "from AssortedFunctions import myLog\n",
    "import InverseTransform\n",
    "import PointSource\n",
    "import PowerLaw\n",
    "\n",
    "# Siddharth and Laura's Stuff\n",
    "from NPTFit import create_mask as cm\n",
    "import constants_noh as constants\n",
    "import units"
   ]
  },
  {
   "cell_type": "code",
   "execution_count": 67,
   "metadata": {},
   "outputs": [],
   "source": [
    "trials = 1000\n",
    "channel = 'b'\n",
    "Nb = 2\n",
    "conc = \"SP\"\n",
    "xsec = 1e-22\n",
    "marr = [100]\n",
    "ebins = [2,20]"
   ]
  },
  {
   "cell_type": "code",
   "execution_count": 68,
   "metadata": {},
   "outputs": [],
   "source": [
    "# Setting basic parameters\n",
    "nside = 128\n",
    "npix = hp.nside2npix(nside)\n",
    "   \n",
    "pscmask=np.array(np.load('fermi_data/fermidata_pscmask.npy'), dtype=bool)\n",
    "exposure=np.array(np.load('fermi_data/fermidata_exposure.npy'))\n",
    "mask = cm.make_mask_total(band_mask = True, band_mask_range = 5, mask_ring = True, inner = 20, outer = 180, custom_mask = pscmask)\n",
    "area_rat = (len(mask[~mask]))/len(mask)"
   ]
  },
  {
   "cell_type": "code",
   "execution_count": 69,
   "metadata": {},
   "outputs": [],
   "source": [
    "# Defining some constants\n",
    "r_s = 199 # scale radius, [kpc]\n",
    "alpha = 0.678\n",
    "N_calib = 300. # Number of subhalos with masses 10^8 - 10^10 M_sun\n",
    "M_MW = 1.1e12 # [M_s]\n",
    "mMin_calib = 1e8 # [M_s]\n",
    "mMax_calib = 1e10 # [M_s]\n",
    "mMin = 1e-5*M_MW\n",
    "mMax = .01*M_MW # [M_s]\n",
    "min_flux = np.log10(1./(np.sum(exposure[~mask])/len(exposure[~mask])))"
   ]
  },
  {
   "cell_type": "code",
   "execution_count": 70,
   "metadata": {},
   "outputs": [
    {
     "name": "stdout",
     "output_type": "stream",
     "text": [
      "2249\n"
     ]
    }
   ],
   "source": [
    "def dNdm_func(m): # Subhalo mass function\n",
    "    norm = N_calib / ( -.9**(-1) * (mMax_calib**(-.9) - mMin_calib**(-.9)))\n",
    "    return norm * (m)**(-1.9)\n",
    "\n",
    "N_subs = round(N_calib / ( -.9**(-1) * (mMax_calib**(-.9) - mMin_calib**(-.9))) * -.9**(-1) * (mMax**(-.9) - mMin**(-.9))) # Total number of subhalos\n",
    "N_subs = np.random.poisson(N_subs)\n",
    "print(N_subs)\n",
    "\n",
    "m_arr = np.logspace(np.log10(mMin), np.log10(mMax), 8000) # mass values to test\n",
    "def mCDFInv(r):\n",
    "    return ( m_arr[0]**(-.9) - (m_arr[0]**(-.9) - m_arr[-1]**(-.9))*r)**(-1/.9)\n",
    "\n",
    "rho_s2 = float(N_subs) / quad(lambda x: 4 * np.pi * x**2 * np.exp( -2./alpha * ( (x/r_s)**(alpha) - 1)), 0, 2000)[0]\n",
    "def rho_Ein(r): # Einasto density Profile\n",
    "    return rho_s2 * np.exp( (-2./alpha) * ( (r/r_s)**(alpha) - 1))"
   ]
  },
  {
   "cell_type": "code",
   "execution_count": 71,
   "metadata": {},
   "outputs": [],
   "source": [
    "r_arr = np.logspace(0, np.log10(2000), 60500) # radius values to test\n",
    "r_sampler = InverseTransform.InverseTransform(lambda r: r**2 * rho_Ein(r), r_arr, nsamples=N_subs)\n",
    "m_sampler = InverseTransform.InverseTransform(dNdm_func, m_arr, nsamples=N_subs, cdfinv=mCDFInv)"
   ]
  },
  {
   "cell_type": "code",
   "execution_count": 72,
   "metadata": {},
   "outputs": [
    {
     "name": "stderr",
     "output_type": "stream",
     "text": [
      "/tigress/somalwar/anaconda3/lib/python3.6/site-packages/scipy/integrate/quadpack.py:385: IntegrationWarning: The maximum number of subdivisions (50) has been achieved.\n",
      "  If increasing the limit yields no improvement it is advised to analyze \n",
      "  the integrand in order to determine the difficulties.  If the position of a \n",
      "  local difficulty can be determined (singularity, discontinuity) one will \n",
      "  probably gain from splitting up the interval and calling the integrator \n",
      "  on the subranges.  Perhaps a special-purpose integrator should be used.\n",
      "  warnings.warn(msg, IntegrationWarning)\n"
     ]
    }
   ],
   "source": [
    "dNdLogx_df = pd.read_csv('Data/AtProduction_gammas.dat', delim_whitespace=True)\n",
    "mass_arr = np.array([1.00000000e+01,1.50000000e+01,2.00000000e+01,2.50000000e+01,3.00000000e+01,4.00000000e+01,5.00000000e+01,6.00000000e+01,7.00000000e+01,8.00000000e+01,9.00000000e+01,1.00000000e+02,1.10000000e+02,1.20000000e+02,1.30000000e+02,1.40000000e+02,1.50000000e+02,1.60000000e+02,1.80000000e+02,2.00000000e+02,2.20000000e+02,2.40000000e+02,2.60000000e+02,2.80000000e+02,3.00000000e+02,3.30000000e+02,3.60000000e+02,4.00000000e+02,4.50000000e+02,5.00000000e+02,5.50000000e+02,6.00000000e+02,6.50000000e+02,7.00000000e+02,7.50000000e+02,8.00000000e+02,9.00000000e+02,1.00000000e+03,1.10000000e+03,1.20000000e+03,1.30000000e+03,1.50000000e+03,1.70000000e+03,2.00000000e+03,2.50000000e+03,3.00000000e+03,4.00000000e+03,5.00000000e+03,6.00000000e+03,7.00000000e+03,8.00000000e+03,9.00000000e+03,1.00000000e+04])\n",
    "PPnoxsec_arr = np.zeros(len(mass_arr))\n",
    "for mi in range(len(mass_arr)):\n",
    "    dNdLogx_ann_df = dNdLogx_df.query('mDM == ' + (str(np.int(float(mass_arr[mi])))))[['Log[10,x]',channel]]\n",
    "    Egamma = np.array(mass_arr[mi]*(10**dNdLogx_ann_df['Log[10,x]']))\n",
    "    dNdEgamma = np.array(dNdLogx_ann_df[channel]/(Egamma*np.log(10)))\n",
    "    dNdE_interp = interp1d(Egamma, dNdEgamma)\n",
    "    if ebins[0] < mass_arr[mi]:\n",
    "        if ebins[1] < mass_arr[mi]:\n",
    "            # Whole bin is inside\n",
    "            PPnoxsec_arr[mi] = 1.0/(8*np.pi*mass_arr[mi]**2)*quad(lambda x: dNdE_interp(x), ebins[0], ebins[1])[0]\n",
    "        else:\n",
    "            # Bin only partially contained\n",
    "            PPnoxsec_arr[mi] = 1.0/(8*np.pi*mass_arr[mi]**2)*quad(lambda x: dNdE_interp(x), ebins[0], mass_arr[mi])[0]\n",
    "PPnoxsec_arr = PPnoxsec_arr"
   ]
  },
  {
   "cell_type": "code",
   "execution_count": 73,
   "metadata": {},
   "outputs": [
    {
     "name": "stdout",
     "output_type": "stream",
     "text": [
      "2.9786839931645153e-05\n"
     ]
    }
   ],
   "source": [
    "print(PPnoxsec_arr[np.argmin(np.abs(mass_arr-100))])"
   ]
  },
  {
   "cell_type": "code",
   "execution_count": 75,
   "metadata": {},
   "outputs": [
    {
     "data": {
      "application/vnd.jupyter.widget-view+json": {
       "model_id": "301e9404817744f8b04660c630ceb90b",
       "version_major": 2,
       "version_minor": 0
      },
      "text/plain": [
       "HBox(children=(IntProgress(value=0, max=1000), HTML(value='')))"
      ]
     },
     "metadata": {},
     "output_type": "display_data"
    }
   ],
   "source": [
    "PS_arr = []\n",
    "# F_thresh = 10**(-10.862336890472442)\n",
    "# F_cons = 10**(-9.759519038076153) #7.742636826811278e-09\n",
    "# F_thresh = 10**(-10.204957491269258) #1-100 GeV\n",
    "# F_cons = 10**(-9.464929859719438)\n",
    "F_thresh = 10**(-10.862336890472442) #2-20 GeV\n",
    "F_cons = 10**(-9.763819095477388)\n",
    "F_test = 1e-8\n",
    "flux_bins = np.logspace(-15, -6, 8*8)\n",
    "\n",
    "xsec_arr = np.logspace(-30, -20, 100)\n",
    "N_detect_cons = []\n",
    "N_detect_thresh = []\n",
    "N_detect_test = []\n",
    "for m in mass_arr:\n",
    "    N_detect_cons.append([])\n",
    "    N_detect_thresh.append([])\n",
    "    N_detect_test.append([])\n",
    "    for x in xsec_arr:\n",
    "        N_detect_cons[-1].append([])\n",
    "        N_detect_thresh[-1].append([])\n",
    "        N_detect_test[-1].append([])\n",
    "\n",
    "for i in tqdm_notebook(range(trials)):\n",
    "    rval_arr = r_sampler.sample()\n",
    "    mval_arr = m_sampler.sample()\n",
    "\n",
    "    theta_arr = (np.arccos(2*np.random.rand(N_subs)-1))\n",
    "    phi_arr = (2*np.pi*np.random.rand(N_subs))\n",
    "\n",
    "    PS_set = PointSource.PointSource(mval_arr, rval_arr, theta_arr, phi_arr)\n",
    "    PS_set.calcJ(conc)\n",
    "    PS_arr.append(PS_set)\n",
    "    \n",
    "#     F_arr = np.load(\"MC/flux_arr\"+str(i)+\".npy\")/PPnoxsec_arr[11]/1e-22 #np.array(PS_set.J.value[~mask[PS_set.pixels]])\n",
    "    F_arr = np.array(PS_set.J[~mask[PS_set.pixels]])\n",
    "    cur_dir = '/tigress/somalwar/SubhalosFresh/100GeV_Plan/'\n",
    "    #np.save(cur_dir+\"/ResolvedFluxes/F_at_\"+str(i), F_arr)\n",
    "    for im, mass in enumerate(mass_arr):\n",
    "        for ix, xsec in enumerate(xsec_arr):\n",
    "            PPnoxsec = PPnoxsec_arr[im]\n",
    "            N_detect_cons[im][ix].append(np.sum([ F_arr*PPnoxsec*xsec > F_cons ]))\n",
    "            N_detect_thresh[im][ix].append(np.sum([ F_arr*PPnoxsec*xsec > F_thresh ]))\n",
    "            N_detect_test[im][ix].append(np.sum([ F_arr*PPnoxsec*xsec > F_test ]))\n",
    "#np.savez(cur_dir+\"/ResolvedFluxes/N_at\", Ndc_a=N_detect_cons, Ndth_a=N_detect_thresh, Ndt_a=N_detect_test)"
   ]
  },
  {
   "cell_type": "code",
   "execution_count": 76,
   "metadata": {},
   "outputs": [
    {
     "data": {
      "image/png": "[encoded data removed]",
      "text/plain": [
       "<Figure size 432x288 with 1 Axes>"
      ]
     },
     "metadata": {
      "needs_background": "light"
     },
     "output_type": "display_data"
    },
    {
     "name": "stdout",
     "output_type": "stream",
     "text": [
      "4.3555351742557594e-26\n"
     ]
    }
   ],
   "source": [
    "fig = plt.figure()\n",
    "ax = fig.add_subplot(111)\n",
    "fig.subplots_adjust(top=0.85)\n",
    "ax.set_title('axes title')\n",
    "n_subs = np.linspace(1, 1000, 100)\n",
    "im = np.argmin(np.abs(100 - mass_arr))\n",
    "xsec_nsubs = []\n",
    "for n_s in n_subs: xsec_nsubs.append(0)\n",
    "for t in range(trials):\n",
    "    N_detect_thresh_ind = []\n",
    "    for i in N_detect_thresh[im]:\n",
    "        N_detect_thresh_ind.append(i[t])\n",
    "    for ni, n_s in enumerate(n_subs):\n",
    "        xsec_nsubs[ni] += (xsec_arr[np.argmin(np.abs(N_detect_thresh_ind - n_s))])/trials\n",
    "ax.plot(n_subs, xsec_nsubs)\n",
    "ax.text(50, 10**(-24.4), (r'5 Subs: $\\langle \\sigma v \\rangle \\approx$ {:.2e}').format(xsec_nsubs[np.argmin(np.abs(n_subs-5))]), fontsize=10)\n",
    "ax.text(50, 10**(-24.6), (r'10 Subs: $\\langle \\sigma v \\rangle \\approx$ {:.2e}').format(xsec_nsubs[np.argmin(np.abs(n_subs-10))]), fontsize=10)\n",
    "ax.text(50, 10**(-24.8), (r'20 Subs: $\\langle \\sigma v \\rangle \\approx$ {:.2e}').format(xsec_nsubs[np.argmin(np.abs(n_subs-20))]), fontsize=10)\n",
    "ax.text(50, 10**(-25.0), (r'50 Subs: $\\langle \\sigma v \\rangle \\approx$ {:.2e}').format(xsec_nsubs[np.argmin(np.abs(n_subs-50))]), fontsize=10)\n",
    "ax.set_yscale(\"log\")\n",
    "ax.set_xlabel(\"N Subhalos\")\n",
    "ax.set_ylabel(\"$\\\\langle \\\\sigma v \\\\rangle$ [cm$^3$ s$^{-1}$]\")\n",
    "ax.set_title(\"Cross Section Corresponding to N Subs\")\n",
    "plt.show()\n",
    "print((xsec_nsubs[np.argmin(np.abs(n_subs-5))]))"
   ]
  },
  {
   "cell_type": "code",
   "execution_count": 77,
   "metadata": {},
   "outputs": [],
   "source": [
    "# np.save(\"subhalos2xsec\", [n_subs, xsec_nsubs])"
   ]
  },
  {
   "cell_type": "code",
   "execution_count": 78,
   "metadata": {},
   "outputs": [
    {
     "data": {
      "application/vnd.jupyter.widget-view+json": {
       "model_id": "2dbba9fc0b494005bdd7a604db9aa63f",
       "version_major": 2,
       "version_minor": 0
      },
      "text/plain": [
       "HBox(children=(IntProgress(value=0, max=1000), HTML(value='')))"
      ]
     },
     "metadata": {},
     "output_type": "display_data"
    }
   ],
   "source": [
    "lim_cons = []\n",
    "lim_thresh = []\n",
    "lim_test = []\n",
    "n_subs_arr = [1, 5, 10, 15]\n",
    "colors = [ 'green', 'blue', 'm', 'goldenrod']\n",
    "for t in tqdm_notebook(range(trials)):\n",
    "    lim_cons_temp = []\n",
    "    lim_thresh_temp = []\n",
    "    lim_test_temp = []\n",
    "    for n_subs in n_subs_arr:\n",
    "        lim_temp = []\n",
    "        for im in range(len(mass_arr)):\n",
    "            for ix in range(len(xsec_arr)):\n",
    "                if N_detect_cons[im][ix][t] >= n_subs: \n",
    "                    lim_temp.append(xsec_arr[ix])\n",
    "                    break\n",
    "                if ix == len(xsec_arr)-1: lim_temp.append(1e-10)\n",
    "        lim_cons_temp.append(lim_temp)\n",
    "\n",
    "    for n_subs in n_subs_arr:\n",
    "        lim_temp = []\n",
    "        for im in range(len(mass_arr)):\n",
    "            for ix in range(len(xsec_arr)):\n",
    "                if N_detect_thresh[im][ix][t] >= n_subs: \n",
    "                    lim_temp.append(xsec_arr[ix])\n",
    "                    break\n",
    "        lim_thresh_temp.append(lim_temp)\n",
    "\n",
    "    for n_subs in n_subs_arr:\n",
    "        lim_temp = []\n",
    "        for im in range(len(mass_arr)):\n",
    "            for ix in range(len(xsec_arr)):\n",
    "                if N_detect_test[im][ix][t] >= n_subs: \n",
    "                    lim_temp.append(xsec_arr[ix])\n",
    "                    break\n",
    "        lim_test_temp.append(lim_temp)\n",
    "\n",
    "    lim_cons.append(lim_cons_temp)\n",
    "    lim_thresh.append(lim_thresh_temp)\n",
    "    lim_test.append(lim_test_temp)"
   ]
  },
  {
   "cell_type": "code",
   "execution_count": 79,
   "metadata": {},
   "outputs": [
    {
     "data": {
      "image/png": "[encoded data removed]",
      "text/plain": [
       "<Figure size 432x288 with 1 Axes>"
      ]
     },
     "metadata": {
      "needs_background": "light"
     },
     "output_type": "display_data"
    }
   ],
   "source": [
    "from matplotlib import rc\n",
    "rc('text', usetex=True)\n",
    "color = ['red', 'blue', 'cyan', 'purple']\n",
    "fig, ax = plt.subplots()\n",
    "for ni in range(len(n_subs_arr[:1])):\n",
    "    lim_cons_ave = []\n",
    "    lim_cons_1stdu = []\n",
    "    lim_cons_1stdd = []\n",
    "    lim_cons_2stdu = []\n",
    "    lim_cons_2stdd = []\n",
    "    for mi in range(len(mass_arr)):\n",
    "        lim_cons_mass = []\n",
    "        for t in range(trials):\n",
    "            lim_cons_mass.append(lim_cons[t][ni][mi])\n",
    "        lim_cons_ave.append(np.percentile(lim_cons_mass, 50))\n",
    "        lim_cons_1stdu.append(np.percentile(lim_cons_mass, 84))\n",
    "        lim_cons_1stdd.append(np.percentile(lim_cons_mass, 16))\n",
    "        lim_cons_2stdu.append(np.percentile(lim_cons_mass, 97.5))\n",
    "        lim_cons_2stdd.append(np.percentile(lim_cons_mass, 2.5))\n",
    "    ax.plot((mass_arr), (lim_cons_ave), label=\"Mean $\\\\langle \\\\sigma v \\\\rangle_{rec}$\", c=\"black\")\n",
    "    ax.fill_between((mass_arr), (lim_cons_2stdd), (lim_cons_2stdu), label=\"$2 \\\\sigma$\", facecolor=\"yellow\")\n",
    "    ax.fill_between((mass_arr), (lim_cons_1stdd), (lim_cons_1stdu), label=\"$1 \\\\sigma$\", facecolor=\"lime\")\n",
    "\n",
    "fig.text(0.87, 0.17, '$N_{det} \\geq 1$, $F_{min} = 10^{'+(\"{0:.4}\").format(np.log10(F_cons))+\"}$\",\n",
    "         fontsize=15, color='black',\n",
    "         ha='right', va='bottom')\n",
    "    \n",
    "plt.yscale(\"log\")\n",
    "plt.xscale(\"log\")\n",
    "plt.ylim(1e-26, 1e-20)\n",
    "plt.xlim(1e1, 1e4)\n",
    "plt.legend(fontsize=15, loc=2)\n",
    "plt.xlabel(\"$m_{\\chi}$ [GeV]\", fontsize=15)\n",
    "plt.ylabel(\"$\\\\langle \\\\sigma v \\\\rangle$ [cm$^3$ s$^{-1}$]\", fontsize=15)\n",
    "plt.title(\"$\\\\langle \\\\sigma v \\\\rangle_{lim}$ vs DM mass, Mock Data\", fontsize=15)\n",
    "plt.setp(ax.get_xticklabels(), fontsize=15);\n",
    "plt.setp(ax.get_yticklabels(), fontsize=15);"
   ]
  },
  {
   "cell_type": "code",
   "execution_count": 80,
   "metadata": {},
   "outputs": [],
   "source": [
    "lim_cons_arr = []\n",
    "lim_thresh_arr = []\n",
    "lim_test_arr = []\n",
    "n_subs_arr = [1, 5, 10, 15]\n",
    "colors = [ 'green', 'blue', 'm', 'goldenrod']\n",
    "for n_subs in n_subs_arr:\n",
    "    lim_temp = []\n",
    "    for im in range(len(mass_arr)):\n",
    "        for ix in range(len(xsec_arr)):\n",
    "            if np.sum(np.array(N_detect_cons[im][ix]) >= n_subs) >= 0.95*trials: \n",
    "                lim_temp.append(xsec_arr[ix])\n",
    "                break\n",
    "            if ix == len(xsec_arr)-1: lim_temp.append(1e-10)\n",
    "    lim_cons_arr.append(lim_temp)\n",
    "\n",
    "for n_subs in n_subs_arr:\n",
    "    lim_temp = []\n",
    "    for im in range(len(mass_arr)):\n",
    "        for ix in range(len(xsec_arr)):\n",
    "            if np.sum(np.array(N_detect_thresh[im][ix]) >= n_subs) >= 0.95*trials: \n",
    "                lim_temp.append(xsec_arr[ix])\n",
    "                break\n",
    "    lim_thresh_arr.append(lim_temp)\n",
    "\n",
    "for n_subs in n_subs_arr:\n",
    "    lim_temp = []\n",
    "    for im in range(len(mass_arr)):\n",
    "        for ix in range(len(xsec_arr)):\n",
    "            if N_detect_test[im][ix][t] >= n_subs: \n",
    "                lim_temp.append(xsec_arr[ix])\n",
    "                break\n",
    "    lim_test_arr.append(lim_temp)"
   ]
  },
  {
   "cell_type": "code",
   "execution_count": 81,
   "metadata": {},
   "outputs": [
    {
     "name": "stdout",
     "output_type": "stream",
     "text": [
      "1.8307382802953697e-24 1\n",
      "1.4174741629268077e-25 1\n",
      "4.6415888336127916e-24 5\n",
      "3.5938136638046403e-25 5\n",
      "7.390722033525776e-24 10\n",
      "5.72236765935022e-25 10\n",
      "1.176811952435004e-23 15\n",
      "9.111627561154867e-25 15\n"
     ]
    },
    {
     "data": {
      "image/png": "[encoded data removed]",
      "text/plain": [
       "<Figure size 432x288 with 1 Axes>"
      ]
     },
     "metadata": {
      "needs_background": "light"
     },
     "output_type": "display_data"
    }
   ],
   "source": [
    "fig, ax = plt.subplots()\n",
    "p = []\n",
    "for il, l in enumerate(lim_cons_arr):\n",
    "    p.append(ax.plot(mass_arr, l, label=\"$N_{det}$ $\\geq$ \" + str(n_subs_arr[il]), c=colors[il])[0])\n",
    "    ax.plot(mass_arr, lim_thresh_arr[il], linestyle=\"--\", c=p[-1].get_color())\n",
    "    print(l[np.argmin(np.abs(mass_arr-100))], n_subs_arr[il])\n",
    "    print(lim_thresh_arr[il][np.argmin(np.abs(mass_arr-100))], n_subs_arr[il])\n",
    "#    ax.plot(mass_arr, lim_test[il], linestyle=\":\", c=p[-1].get_color())\n",
    "    \n",
    "#fig.text(0.45, 0.23, 'Preliminary',\n",
    "#         fontsize=20, color='red',\n",
    "#         ha='right', va='bottom', alpha=0.6)\n",
    "\n",
    "solid, = ax.plot([-10.], [-10.], c=\"black\", label=\"$F_{min} = 10^{\"+(\"{0:.4}\").format(np.log10(F_cons))+\"}$\")\n",
    "dashed, = ax.plot([-10.], [-10.], c=\"black\", label=\"$F_{min} = 10^{\"+(\"{0:.4}\").format(np.log10(F_thresh))+\"}$\", linestyle=\"--\")\n",
    "#dashed, = ax.plot([-10.], [-10.], c=\"black\", label=\"$F_{min}$ = \"+str(F_test), linestyle=\"--\")\n",
    "\n",
    "legend2 = plt.legend(handles=[solid, dashed], loc=4, frameon=False, fontsize=15)\n",
    "plt.gca().add_artist(legend2)\n",
    "\n",
    "plt.yscale(\"log\")\n",
    "plt.xscale(\"log\")\n",
    "plt.ylim(1e-26, 1e-20)\n",
    "plt.xlim(1e1, 1e4)\n",
    "plt.legend(handles=p, ncol=2, frameon=False, fontsize=14.5)\n",
    "plt.xlabel(\"$m_{\\chi}$ [GeV]\", fontsize=15)\n",
    "plt.ylabel(\"$\\\\langle \\\\sigma v \\\\rangle$ [cm$^3$ s$^{-1}$]\", fontsize=15)\n",
    "plt.title(\"Resolved Point Source Limits\", fontsize=15)\n",
    "plt.setp(ax.get_xticklabels(), fontsize=15);\n",
    "plt.setp(ax.get_yticklabels(), fontsize=15);"
   ]
  }
 ],
 "metadata": {
  "anaconda-cloud": {},
  "kernelspec": {
   "display_name": "Python 3",
   "language": "python",
   "name": "python3"
  },
  "language_info": {
   "codemirror_mode": {
    "name": "ipython",
    "version": 3
   },
   "file_extension": ".py",
   "mimetype": "text/x-python",
   "name": "python",
   "nbconvert_exporter": "python",
   "pygments_lexer": "ipython3",
   "version": "3.6.8"
  },
  "widgets": {
   "state": {
    "519aa266b5184bbead1c7d5b56bee8da": {
     "views": [
      {
       "cell_index": 6
      }
     ]
    }
   },
   "version": "1.2.0"
  }
 },
 "nbformat": 4,
 "nbformat_minor": 2
}
