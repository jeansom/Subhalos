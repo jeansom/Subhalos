{
 "cells": [
  {
   "cell_type": "code",
   "execution_count": 34,
   "metadata": {
    "collapsed": false
   },
   "outputs": [],
   "source": [
    "%matplotlib inline\n",
    "\n",
    "import numpy as np\n",
    "import matplotlib.pyplot as plt\n",
    "import units\n",
    "import constants_noh as constants\n",
    "from scipy.integrate import quad"
   ]
  },
  {
   "cell_type": "code",
   "execution_count": 394,
   "metadata": {
    "collapsed": false
   },
   "outputs": [],
   "source": [
    "def Norm( Mvir, Rvir, r_s ):\n",
    "    return Mvir / quad( lambda r: 4*np.pi*r**2 * np.exp( -2./0.17 * ( (r/r_s)**(0.17) - 1 ) ), 0, Rvir )[0]\n",
    "\n",
    "def J_fac_int( Mvir ):\n",
    "    Rvir = ( 3 * Mvir / (4*np.pi * 200 * 1.8788e-26*units.h**2*units.Kilogram/units.Meter**3) )**(1./3.)\n",
    "    r_s = Rvir / cvir( Mvir )\n",
    "    c = cvir(Mvir)\n",
    "    #return Mvir**2 * c**3 / (12 * np.pi * Rvir**3) * ( 1 - (1+c)**(-3) ) * ( np.log(1+c) - c/(1+c) )**(-2)\n",
    "    return Norm(Mvir, Rvir, r_s)**2 * quad( lambda r: 4*np.pi*r**2 * (np.exp( -2./0.17 * ( (r/r_s)**(0.17) - 1 ) ))**2, 0, Rvir )[0]\n",
    "\n",
    "c_arr = np.array([37.5153, -1.5093, 1.636e-2, 3.66e-4, -2.89237e-5, 5.32e-7])\n",
    "def cvir( Mvir ):\n",
    "    cv = 0\n",
    "    for ic, c in enumerate(c_arr):\n",
    "        cv += c * (np.log( Mvir / (units.M_s / constants.h )))**ic\n",
    "    return np.log(np.random.lognormal(cv, 0.14))"
   ]
  },
  {
   "cell_type": "code",
   "execution_count": 389,
   "metadata": {
    "collapsed": false
   },
   "outputs": [
    {
     "data": {
      "text/plain": [
       "(1e-06, 1000000000000.0)"
      ]
     },
     "execution_count": 389,
     "metadata": {},
     "output_type": "execute_result"
    },
    {
     "data": {
      "image/png": "[encoded data removed]",
      "text/plain": [
       "<matplotlib.figure.Figure at 0x7fe47297eda0>"
      ]
     },
     "metadata": {},
     "output_type": "display_data"
    }
   ],
   "source": [
    "m_test = np.logspace( -6, 12, 100 )\n",
    "plt.plot( m_test, cvir(m_test*units.M_s) )\n",
    "plt.yscale(\"log\")\n",
    "plt.xscale(\"log\")\n",
    "plt.ylim(8, 200)\n",
    "plt.xlim(1e-6, 1e12)"
   ]
  },
  {
   "cell_type": "code",
   "execution_count": 400,
   "metadata": {
    "collapsed": false
   },
   "outputs": [
    {
     "name": "stdout",
     "output_type": "stream",
     "text": [
      "6.067775316223096\n",
      "35137920\n"
     ]
    }
   ],
   "source": [
    "N_calib = 150\n",
    "mMin_calib = 1e8*units.M_s\n",
    "mMax_calib = 1e10*units.M_s\n",
    "\n",
    "M_MW = 1.1e12*units.M_s\n",
    "mMin_clumpy = 1e-6*units.M_s\n",
    "mMin = 1e-10*M_MW\n",
    "mMax = 0.01*M_MW\n",
    "\n",
    "dNdm_norm = N_calib * (-.9) / (mMax_calib**(-.9) - mMin_calib**(-.9))\n",
    "\n",
    "N_subs_clumpy = dNdm_norm / (-.9) * (mMax**(-.9) - mMin_clumpy**(-.9))\n",
    "print(N_subs_clumpy/1e14)\n",
    "\n",
    "N_subs = round(dNdm_norm / (-.9) * (mMax**(-.9) - mMin**(-.9)))\n",
    "print(N_subs)"
   ]
  },
  {
   "cell_type": "code",
   "execution_count": 381,
   "metadata": {
    "collapsed": false
   },
   "outputs": [
    {
     "name": "stdout",
     "output_type": "stream",
     "text": [
      "\n"
     ]
    },
    {
     "data": {
      "text/plain": [
       "(0.005, 2)"
      ]
     },
     "execution_count": 381,
     "metadata": {},
     "output_type": "execute_result"
    },
    {
     "data": {
      "image/png": "[encoded data removed]",
      "text/plain": [
       "<matplotlib.figure.Figure at 0x7fe4effabe48>"
      ]
     },
     "metadata": {},
     "output_type": "display_data"
    }
   ],
   "source": [
    "def UnNormSpatialDist( r ):\n",
    "    return np.exp( -2/0.678 * ( (r/(199*units.kpc))**(.678) - 1 ) )\n",
    "\n",
    "r_test = np.logspace(np.log10(1e-3*213.5), np.log10(1.22*213.5), 100)*units.kpc\n",
    "y_arr = []\n",
    "for rt in r_test:\n",
    "    y_arr.append(quad(lambda r: r**2 * UnNormSpatialDist(r), 0, rt)[0])\n",
    "y_arr = np.array(y_arr) / y_arr[ np.argmin(np.abs(r_test-213.5*units.kpc)) ]\n",
    "print()\n",
    "plt.plot( r_test/(213.5*units.kpc), y_arr )\n",
    "plt.yscale(\"log\")\n",
    "plt.xscale(\"log\")\n",
    "plt.ylim(1e-4, 2)\n",
    "plt.xlim(5e-3, 2)"
   ]
  },
  {
   "cell_type": "code",
   "execution_count": 382,
   "metadata": {
    "collapsed": false
   },
   "outputs": [],
   "source": [
    "trials = 1\n",
    "rvals_sel = np.logspace(0, np.log10(260), 60000)*units.kpc\n",
    "cum_r = []\n",
    "for rt in rvals_sel:\n",
    "    cum_r.append( quad( lambda r: r**2 * UnNormSpatialDist(r), rvals_sel[0], rt )[0] )\n",
    "cum_r = np.array(cum_r)/cum_r[-1]"
   ]
  },
  {
   "cell_type": "code",
   "execution_count": null,
   "metadata": {
    "collapsed": false
   },
   "outputs": [],
   "source": [
    "from astropy import units as u\n",
    "from astropy.coordinates import SkyCoord\n",
    "for trial in range(trials):\n",
    "    rands = np.random.rand(N_subs)\n",
    "    rval_arr = np.interp( rands, cum_r, rvals_sel )\n",
    "    rands = np.random.rand(N_subs)\n",
    "    mval_arr = (mMin**(-.9) + rands*(mMax**(-.9) - mMin**(-.9)))**(-1/.9)\n",
    "    theta_arr = np.arccos( 2*np.random.rand(N_subs) - 1 )\n",
    "    phi_arr = 2*np.pi*np.random.rand(N_subs)\n",
    "    \n",
    "    PS_list = SkyCoord(x=rval_arr*np.cos(phi_arr)*np.sin(theta_arr)/units.kpc*u.kpc, \n",
    "                       y=rval_arr*np.sin(phi_arr)*np.sin(theta_arr)/units.kpc*u.kpc,\n",
    "                       z=rval_arr*np.cos(theta_arr)/units.kpc*u.kpc, frame=\"galactocentric\").transform_to(\"galactic\")\n",
    "    \n",
    "    dA_arr = PS_list.distance.value*units.kpc\n",
    "    J_arr = []\n",
    "    for i in range(N_subs):\n",
    "        J_arr.append(J_fac_int( mval_arr[i] ) / dA_arr[i]**2 / (units.Centimeter**(-5) * units.GeV**2))"
   ]
  },
  {
   "cell_type": "code",
   "execution_count": null,
   "metadata": {
    "collapsed": false
   },
   "outputs": [],
   "source": [
    "plt.scatter(mval_arr/units.M_s, J_arr)\n",
    "plt.xscale(\"log\")\n",
    "plt.yscale(\"log\")\n",
    "plt.xlim(1e6, 1e11)\n",
    "plt.ylim(1e17, 1e22)"
   ]
  },
  {
   "cell_type": "code",
   "execution_count": null,
   "metadata": {
    "collapsed": false
   },
   "outputs": [],
   "source": [
    "bins = plt.hist(J_arr, bins=np.logspace(12,22,50))\n",
    "N = np.sum(bins[0])\n",
    "cum_J = []\n",
    "for val in bins[0]:\n",
    "    cum_J.append(N)\n",
    "    N=N-val\n",
    "plt.yscale(\"log\")\n",
    "plt.xscale(\"log\")"
   ]
  },
  {
   "cell_type": "code",
   "execution_count": null,
   "metadata": {
    "collapsed": false
   },
   "outputs": [],
   "source": [
    "plt.plot(bins[1][:-1], cum_J)\n",
    "plt.xscale(\"log\")\n",
    "plt.yscale(\"log\")\n",
    "plt.ylim(1e-1, 2e4)\n",
    "plt.xlim(5e16, 3e21)"
   ]
  },
  {
   "cell_type": "code",
   "execution_count": null,
   "metadata": {
    "collapsed": false
   },
   "outputs": [],
   "source": [
    "plt.hist((mval_arr)/units.M_s, bins=np.logspace(np.log10(mMin/units.M_s), np.log10(mMax/units.M_s), 50));\n",
    "plt.xscale(\"log\")"
   ]
  },
  {
   "cell_type": "code",
   "execution_count": null,
   "metadata": {
    "collapsed": true
   },
   "outputs": [],
   "source": []
  }
 ],
 "metadata": {
  "anaconda-cloud": {},
  "kernelspec": {
   "display_name": "Python [conda env:venv_py35]",
   "language": "python",
   "name": "conda-env-venv_py35-py"
  },
  "language_info": {
   "codemirror_mode": {
    "name": "ipython",
    "version": 3
   },
   "file_extension": ".py",
   "mimetype": "text/x-python",
   "name": "python",
   "nbconvert_exporter": "python",
   "pygments_lexer": "ipython3",
   "version": "3.5.2"
  }
 },
 "nbformat": 4,
 "nbformat_minor": 1
}
