{
 "cells": [
  {
   "cell_type": "code",
   "execution_count": 1,
   "metadata": {},
   "outputs": [],
   "source": [
    "import os, sys\n",
    "sys.path.append('/tigress/somalwar/Subhaloes/Subhalos/')\n",
    "import numpy as np\n",
    "import units\n",
    "import constants_noh as constants\n",
    "%matplotlib inline\n",
    "import matplotlib.pyplot as plt"
   ]
  },
  {
   "cell_type": "code",
   "execution_count": 10,
   "metadata": {},
   "outputs": [],
   "source": [
    "x = 1.4677992676220736e-21\n",
    "P = 2.9786839931645153e-05*x\n",
    "c_arr = [37.5153, -1.5093, 1.636 * 10**(-2), 3.66 * 10**(-4), -2.89237 * 10**(-5), 5.32 * 10**(-7)]\n",
    "c_arr.reverse()\n",
    "\n",
    "G = 43007.1 # Gravitational constant in [(km/s)**2*(kpc/(1e10*M_s))]                                 \n",
    "H0 = 0.07 # Hubble in [(km/s)/kpc]                                                                   \n",
    "r0 = 8 # Position of the sun in [kpc]                                                                \n",
    "r_vir = 213.5 # r200 for MW in [kpc] (taken from 1606.04898)                                         \n",
    "                                                                      \n",
    "rho_c = 3*H0**2/(8*np.pi*G)*1e10*units.M_s/units.kpc**3"
   ]
  },
  {
   "cell_type": "code",
   "execution_count": 13,
   "metadata": {},
   "outputs": [],
   "source": [
    "m_test_arr = np.logspace(7, 10, 20)\n",
    "m_diff_arr = np.diff(m_test_arr)\n",
    "theta_test_arr = np.linspace(0, np.pi, 20)\n",
    "theta_diff_arr = np.diff(theta_test_arr)\n",
    "r_test_arr = np.logspace(0, np.log10(2000), 20)\n",
    "r_diff_arr = np.diff(r_test_arr)"
   ]
  },
  {
   "cell_type": "code",
   "execution_count": 14,
   "metadata": {},
   "outputs": [],
   "source": [
    "F_arr = []\n",
    "l_arr = []\n",
    "for im, m in enumerate(m_test_arr[:-1]):\n",
    "    for it, th in enumerate(theta_test_arr[:-1]):\n",
    "        for ir, r in enumerate(r_test_arr[:-1]):\n",
    "            d2 = (r0**2 + r**2 - 2*r0*r*np.cos(th))*units.kpc**2\n",
    "            c = np.polyval(c_arr, np.log(m*units.h))\n",
    "            r200 = ( 3*m*units.M_s/(4*np.pi*200*rho_c) )**(1./3.)\n",
    "            r_s = r200/c\n",
    "            nfw_func = np.log(1+c) - c/(1+c)\n",
    "            delta_c = 200./3.*c**3/nfw_func\n",
    "            rho_s = delta_c*rho_c\n",
    "            l_s = 4*np.pi/3. * rho_s**2 * r_s**3\n",
    "            F_arr.append( P*(1 - (1+c)**(-3.)) * l_s/d2  / (units.GeV**2/units.Centimeter**5) )\n",
    "            l_arr.append(np.sqrt(l_s))"
   ]
  },
  {
   "cell_type": "code",
   "execution_count": 15,
   "metadata": {},
   "outputs": [],
   "source": [
    "N_arr = []\n",
    "for im, m in enumerate(m_test_arr[:-1]):\n",
    "    for it, th in enumerate(theta_test_arr[:-1]):\n",
    "        for ir, r in enumerate(r_test_arr[:-1]):\n",
    "            P_r = r**2 * np.exp( -2./.678 * ( (r/199)**(.678) - 1 ) ) * r_diff_arr[ir]\n",
    "            P_m = m**(-1.9) * m_diff_arr[im]\n",
    "            P_th = np.sin(th) * theta_diff_arr[it]\n",
    "            N_arr.append(P_r*P_m*P_th)\n",
    "N_arr = np.array(N_arr)\n",
    "N_arr = 2218*N_arr/np.sum(N_arr)"
   ]
  },
  {
   "cell_type": "code",
   "execution_count": 16,
   "metadata": {},
   "outputs": [],
   "source": [
    "np.savez(\"NF_arr\", N_arr=N_arr, F_arr=F_arr, l_arr=l_arr)"
   ]
  },
  {
   "cell_type": "code",
   "execution_count": 17,
   "metadata": {},
   "outputs": [],
   "source": [
    "N_arr = np.load(\"NF_arr.npz\")[\"N_arr\"]\n",
    "F_arr = np.load(\"NF_arr.npz\")[\"F_arr\"]"
   ]
  },
  {
   "cell_type": "code",
   "execution_count": 18,
   "metadata": {},
   "outputs": [],
   "source": [
    "F_plot_arr = np.logspace(-30, -3, 300)\n",
    "N_plot_arr_xsec = []\n",
    "xsec_arr = np.logspace(-24,-20,5)*1e22\n",
    "for ix, xsec in enumerate(xsec_arr):\n",
    "    N_plot_arr_xsec.append(np.zeros(len(F_plot_arr)-1))\n",
    "    for iF, F in enumerate(F_arr):\n",
    "        N_plot_arr_xsec[ix][np.argmin(np.abs(F*xsec-F_plot_arr[:-1]))] += N_arr[iF]"
   ]
  },
  {
   "cell_type": "code",
   "execution_count": 19,
   "metadata": {},
   "outputs": [],
   "source": [
    "F2 = np.array([1.18691190e-11, 1.63060781e-11, 2.24016781e-11, 3.07759584e-11,\n",
    "       4.22807440e-11, 5.80862923e-11, 7.98003305e-11, 1.09631593e-10,\n",
    "       1.50614491e-10, 2.06917772e-10, 2.84268559e-10, 3.90534911e-10,\n",
    "       5.36526154e-10, 7.37092397e-10, 1.01263507e-09, 1.39118216e-09,\n",
    "       1.91123916e-09, 2.62570584e-09, 3.60725716e-09, 4.95573572e-09,\n",
    "       6.80830766e-09, 9.35341508e-09, 1.28499442e-08, 1.76535591e-08,\n",
    "       2.42528796e-08, 3.33191831e-08, 4.57746866e-08, 6.28863538e-08,\n",
    "       8.63947692e-08])\n",
    "F2dNdF = np.array([2.69994973e-14, 5.56388279e-14, 1.25273300e-13, 2.77115709e-13,\n",
    "       3.52655975e-13, 7.43247364e-13, 1.05134546e-12, 1.67296769e-12,\n",
    "       2.25553619e-12, 3.39289055e-12, 3.71820960e-12, 5.92250995e-12,\n",
    "       7.11942446e-12, 8.94247748e-12, 1.01738372e-11, 1.12080196e-11,\n",
    "       1.66659017e-11, 1.39367032e-11, 1.60694464e-11, 1.69097269e-11,\n",
    "       2.38762903e-11, 2.03903179e-11, 1.33973802e-11, 1.84056397e-11,\n",
    "       3.21823164e-11, 1.89483566e-11, 4.33861720e-12, 2.38419822e-11,\n",
    "       2.45660119e-11])"
   ]
  },
  {
   "cell_type": "code",
   "execution_count": 20,
   "metadata": {},
   "outputs": [
    {
     "data": {
      "text/plain": [
       "<matplotlib.legend.Legend at 0x2b0ffdeed208>"
      ]
     },
     "execution_count": 20,
     "metadata": {},
     "output_type": "execute_result"
    },
    {
     "data": {
      "image/png": "[encoded data removed]",
      "text/plain": [
       "<Figure size 432x288 with 1 Axes>"
      ]
     },
     "metadata": {},
     "output_type": "display_data"
    }
   ],
   "source": [
    "for ix, N_plot_arr in enumerate(N_plot_arr_xsec):\n",
    "    if xsec_arr[ix] != 1: continue\n",
    "    dN = N_plot_arr*2.9852067389362934e-05\n",
    "    dF = np.diff(F_plot_arr)\n",
    "    F = F_plot_arr[:-1]\n",
    "    p = plt.plot(F, F**2*dN/dF, label=\"$\\\\langle \\\\sigma v \\\\rangle$=1e\"+str(int(np.log10(xsec_arr[ix]*1e-22))))\n",
    "    #plt.plot(F, F**2 * 10**(3.75414412)/xsec_arr[ix] * (F/10**(-7.71429)/xsec_arr[ix])**(-1.78730091), c=p[0].get_color(), ls=\"--\")\n",
    "plt.scatter(F2, F2dNdF, c=\"black\", label=\"MC SCD\")\n",
    "plt.yscale(\"log\")\n",
    "plt.xscale(\"log\")\n",
    "plt.xlim(1e-12, 1e-6)\n",
    "plt.ylim(1e-20, 1e-9)\n",
    "plt.title(\"Signal SCD, $m_{\\chi} = \"+str(100)+\"$ GeV, $\\\\langle \\sigma v \\\\rangle =$ \"+str(1e-22)+\" cm$^3$s$^{-1}$\")\n",
    "plt.ylabel(\"$log_{10} F^2dN/dF$ [counts cm$^{-2}$s$^{-1}$deg$^{-2}$]\")\n",
    "plt.xlabel(\"$log_{10} F$ [counts cm$^{-2}$s$^{-1}$]\")\n",
    "plt.legend()"
   ]
  },
  {
   "cell_type": "code",
   "execution_count": null,
   "metadata": {},
   "outputs": [],
   "source": []
  }
 ],
 "metadata": {
  "kernelspec": {
   "display_name": "Python 3",
   "language": "python",
   "name": "python3"
  },
  "language_info": {
   "codemirror_mode": {
    "name": "ipython",
    "version": 3
   },
   "file_extension": ".py",
   "mimetype": "text/x-python",
   "name": "python",
   "nbconvert_exporter": "python",
   "pygments_lexer": "ipython3",
   "version": "3.6.5"
  }
 },
 "nbformat": 4,
 "nbformat_minor": 2
}
