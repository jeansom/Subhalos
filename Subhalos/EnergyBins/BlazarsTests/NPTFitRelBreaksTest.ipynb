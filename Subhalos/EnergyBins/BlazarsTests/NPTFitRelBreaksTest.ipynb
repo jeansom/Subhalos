{
 "cells": [
  {
   "cell_type": "code",
   "execution_count": 9,
   "metadata": {},
   "outputs": [
    {
     "name": "stdout",
     "output_type": "stream",
     "text": [
      "The autoreload extension is already loaded. To reload it, use:\n",
      "  %reload_ext autoreload\n"
     ]
    }
   ],
   "source": [
    "# Import relevant modules\n",
    "\n",
    "%matplotlib inline\n",
    "%load_ext autoreload\n",
    "%autoreload 2\n",
    "\n",
    "import numpy as np\n",
    "import healpy as hp\n",
    "import matplotlib.pyplot as plt\n",
    "from matplotlib import rcParams\n",
    "\n",
    "from NPTFit import nptfit # module for performing scan\n",
    "from NPTFit import dnds_analysis # module for analysing the output\n",
    "\n",
    "from __future__ import print_function"
   ]
  },
  {
   "cell_type": "code",
   "execution_count": 10,
   "metadata": {},
   "outputs": [],
   "source": [
    "nside = 2\n",
    "npix = hp.nside2npix(nside)\n",
    "data = np.zeros(npix).astype(np.int32)\n",
    "exposure = np.ones(npix)"
   ]
  },
  {
   "cell_type": "code",
   "execution_count": 11,
   "metadata": {},
   "outputs": [
    {
     "data": {
      "image/png": "[encoded data removed]",
      "text/plain": [
       "<Figure size 612x388.8 with 2 Axes>"
      ]
     },
     "metadata": {},
     "output_type": "display_data"
    }
   ],
   "source": [
    "for ips in range(10):\n",
    "    data[np.random.randint(npix)] += np.random.poisson(50)\n",
    "\n",
    "hp.mollview(data,title='Fake Data with point sources')"
   ]
  },
  {
   "cell_type": "code",
   "execution_count": 47,
   "metadata": {},
   "outputs": [
    {
     "name": "stdout",
     "output_type": "stream",
     "text": [
      "No mask set; defaulting to a blank mask\n",
      "The number of parameters to be fit is 7\n",
      "-115.74087573723384\n"
     ]
    }
   ],
   "source": [
    "n = nptfit.NPTF(tag='ex')\n",
    "n.load_data(data,exposure)\n",
    "\n",
    "iso = np.ones(npix)\n",
    "n.add_template(iso, 'iso_p',units='flux')\n",
    "n.add_template(iso, 'iso_np',units='PS')\n",
    "\n",
    "n.add_poiss_model('iso_p', '$A_\\mathrm{iso}$', [0,2], False)\n",
    "n.add_non_poiss_model('iso_np',\n",
    "                      ['$A^\\mathrm{ps}_\\mathrm{iso}$','$n_1$','$n_2$', '$n_3', '$S_b$', '$S_b2$'],\n",
    "                      [[-10,1],[2.05,60],[-5,5], [-60,1.95],[0.01,200], [0.01,100]],\n",
    "                      [True,False,False,False,False,False])\n",
    "\n",
    "n.configure_for_scan()\n",
    "print(n.ll([0.1, -1.2, 38.5, 0, -35.3, 49*0.5, 0.5]))"
   ]
  },
  {
   "cell_type": "code",
   "execution_count": 48,
   "metadata": {},
   "outputs": [
    {
     "name": "stdout",
     "output_type": "stream",
     "text": [
      "No mask set; defaulting to a blank mask\n",
      "The number of parameters to be fit is 7\n",
      "[24.5]\n",
      "[[0.06309573444801933, 38.5, 0.0, -35.3, 24.5, 0.5]]\n",
      "-115.74087573723384\n"
     ]
    }
   ],
   "source": [
    "n2 = nptfit.NPTF(tag='ex2')\n",
    "n2.load_data(data,exposure)\n",
    "\n",
    "iso = np.ones(npix)\n",
    "n2.add_template(iso, 'iso_p',units='flux')\n",
    "n2.add_template(iso, 'iso_np',units='PS')\n",
    "\n",
    "n2.add_poiss_model('iso_p', '$A_\\mathrm{iso}$', [0,2], False)\n",
    "n2.add_non_poiss_model('iso_np',\n",
    "                      ['$A^\\mathrm{ps}_\\mathrm{iso}$','$n_1$','$n_2$', '$n_3', '$S_b$', '$S_b2$'],\n",
    "                      [[-10,1],[2.05,60],[-5,5], [-60,1.95],[0.01,200], [0.01,1]],\n",
    "                      [True,False,False,False,False,False],\n",
    "                      dnds_model='specify_relative_breaks')\n",
    "\n",
    "n2.configure_for_scan()\n",
    "print(n2.ll([0.1, -1.2, 38.5, 0, -35.3, 49, 0.5]))"
   ]
  },
  {
   "cell_type": "code",
   "execution_count": null,
   "metadata": {},
   "outputs": [],
   "source": []
  },
  {
   "cell_type": "code",
   "execution_count": null,
   "metadata": {},
   "outputs": [],
   "source": []
  }
 ],
 "metadata": {
  "kernelspec": {
   "display_name": "Python 3",
   "language": "python",
   "name": "python3"
  },
  "language_info": {
   "codemirror_mode": {
    "name": "ipython",
    "version": 3
   },
   "file_extension": ".py",
   "mimetype": "text/x-python",
   "name": "python",
   "nbconvert_exporter": "python",
   "pygments_lexer": "ipython3",
   "version": "3.6.5"
  }
 },
 "nbformat": 4,
 "nbformat_minor": 2
}
