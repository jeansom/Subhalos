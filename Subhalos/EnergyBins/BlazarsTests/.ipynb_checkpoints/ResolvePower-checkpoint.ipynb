{
 "cells": [
  {
   "cell_type": "code",
   "execution_count": 1,
   "metadata": {},
   "outputs": [],
   "source": [
    "import os, sys\n",
    "import copy\n",
    "\n",
    "import argparse\n",
    "import numpy as np\n",
    "import matplotlib\n",
    "import matplotlib.pyplot as plt\n",
    "import pymultinest\n",
    "\n",
    "import iminuit\n",
    "from iminuit import Minuit, describe, Struct\n",
    "from scipy.interpolate import interp1d\n",
    "from scipy.integrate import quad\n",
    "from scipy.optimize import minimize\n",
    "\n",
    "# NPTFit modules                                                                                     \n",
    "from NPTFit import nptfit # module for performing scan                                               \n",
    "from NPTFit import create_mask as cm # module for creating the mask                                  \n",
    "from NPTFit import psf_correction as pc # module for determining the PSF correction                  \n",
    "from NPTFit import dnds_analysis\n",
    "import pandas as pd\n",
    "import healpy as hp\n",
    "\n",
    "# My Modules                                                                                         \n",
    "from Recxsec_modules_NP import makeMockData, getNPTFitLL, SCDParams_Flux2Counts"
   ]
  },
  {
   "cell_type": "code",
   "execution_count": 19,
   "metadata": {},
   "outputs": [],
   "source": [
    "floatsig = True"
   ]
  },
  {
   "cell_type": "code",
   "execution_count": 2,
   "metadata": {},
   "outputs": [],
   "source": [
    "# Global settings\n",
    "nside=128\n",
    "emin = 0\n",
    "emax = 39\n",
    "mass = 100"
   ]
  },
  {
   "cell_type": "code",
   "execution_count": 11,
   "metadata": {},
   "outputs": [],
   "source": [
    "# These are the energy bin edges over which the data is defined\n",
    "ebins = 2*np.logspace(-1,3,41)[emin:emax+2]\n",
    "my_iebins = [ 10, 15 ]\n",
    "xsec_inj = 1e-22"
   ]
  },
  {
   "cell_type": "code",
   "execution_count": 25,
   "metadata": {},
   "outputs": [],
   "source": [
    "SCD_params = np.array([-5.71613418, -5.52961428, 10., 1.79143877, 10., 1.80451023, 10., 1.80451023, 10., 1.80451023, 2.99124533, 2.38678777, 2.38678777, 2.38])\n",
    "SCD_params[:len(my_iebins)-1] = 10**SCD_params[:len(my_iebins)-1]\n",
    "SCD_params[(len(my_iebins) - 1) * (1 + (2+1)):] = 10**(SCD_params[(len(my_iebins) - 1) * (1 + (2+1)):])"
   ]
  },
  {
   "cell_type": "code",
   "execution_count": 12,
   "metadata": {},
   "outputs": [],
   "source": [
    "exposure_ebins= []\n",
    "for ib, b in enumerate(my_iebins[:-1]):\n",
    "    fermi_exposure = np.zeros(len(np.load(\"/tigress/somalwar/Subhaloes/Subhalos/EnergyBins/maps/exposure0.npy\")))\n",
    "    n = 0\n",
    "    for bin_ind in range(b, my_iebins[ib+1]):\n",
    "        n+=1\n",
    "        fermi_exposure += np.load(\"/tigress/somalwar/Subhaloes/Subhalos/EnergyBins/maps/exposure\"+str(bin_ind)+\".npy\")\n",
    "    fermi_exposure = fermi_exposure / n\n",
    "    exposure_ebins.append(fermi_exposure)"
   ]
  },
  {
   "cell_type": "code",
   "execution_count": 13,
   "metadata": {},
   "outputs": [],
   "source": [
    "subhalos = np.load('/tigress/somalwar/Subhaloes/Subhalos/MC/EinastoTemplate2.npy')\n",
    "subhalos = subhalos/np.mean(subhalos)\n",
    "blazars = np.ones(len(subhalos))"
   ]
  },
  {
   "cell_type": "code",
   "execution_count": 14,
   "metadata": {},
   "outputs": [],
   "source": [
    "xsec0 = 1e-22\n",
    "subhalo_MC = []\n",
    "for ib, b in enumerate(my_iebins[:-1]):\n",
    "    fake_data = np.load(\"/tigress/somalwar/Subhaloes/Subhalos/MC/subhalo_flux_map0_\"+str(b)+\"-\"+str(\\\n",
    "my_iebins[ib+1])+\".npy\")*exposure_ebins[ib]*xsec_inj/xsec0\n",
    "    fake_data = np.round(fake_data).astype(np.int32)\n",
    "    subhalo_MC.append(fake_data)"
   ]
  },
  {
   "cell_type": "code",
   "execution_count": 15,
   "metadata": {},
   "outputs": [],
   "source": [
    "pscmask = np.array(np.load('/tigress/somalwar/Subhaloes/Subhalos/fermi_data/fermidata_pscmask.npy'),\\\n",
    " dtype=bool)\n",
    "mask = cm.make_mask_total(band_mask = True, band_mask_range = 5, mask_ring = True, inner = 20, outer\\\n",
    " = 180, custom_mask = pscmask)\n"
   ]
  },
  {
   "cell_type": "code",
   "execution_count": 17,
   "metadata": {},
   "outputs": [],
   "source": [
    "data_ebins = []\n",
    "for ib, b in enumerate(my_iebins[:-1]):\n",
    "    data_ebins.append(makeMockData( subhalo_MC[ib], np.zeros(len(subhalo_MC[ib])) ))"
   ]
  },
  {
   "cell_type": "code",
   "execution_count": 20,
   "metadata": {},
   "outputs": [],
   "source": [
    "bkg_arr = [[], []]\n",
    "if not floatsig:\n",
    "    bkg_arr_np = [ [[np.ones(len(blazars_ebins[ib])), 'blaz']], [[np.ones(len(blazars_ebins[ib])), '\\\n",
    "blaz']] ]\n",
    "else:\n",
    "    bkg_arr_np = [[], []]"
   ]
  },
  {
   "cell_type": "code",
   "execution_count": null,
   "metadata": {},
   "outputs": [],
   "source": [
    "ll_ebins, A_ebins, Fb_ebins, n_ebins = getNPTFitLL( data_ebins, exposure_ebins, mask, 2, \"chains\", bkg_arr, bkg_arr_np, subhalos, False, True, floatsig, *SCD_params )\n",
    "if not floatsig:\n",
    "    minuit_min = iminuit.Minuit(lambda Ab, n1b, n2b, n3b, Fb1b, Fb2b: -ll_ebins[0]([Ab, n1b, n2b, n3b, Fb1b, Fb2b]),\n",
    "                                Ab=1e-6, limit_Ab=(1e-20, 1e-2), error_Ab=1e-2, n1b=10, limit_n1b=(2.05,30.), error_n1b=.1, n2b=2, limit_n2b=(-20,20), error_n2b=1e-1, n3b=1.4, limit_n3b=(0.1,1.95), error_n3b=1e-2, Fb1b=11.8129, limit_Fb1b=(0,30), error_Fb1b=1, Fb2b=8.715, limit_Fb2b=(0.,10), error_Fb2b=1e-2,\n",
    "                                print_level=1)\n",
    "else:\n",
    "    minuit_min = iminuit.Minuit(lambda Ab, n1b, n2b, n3b, Fb1b, Fb2b: -ll_ebins[0]([Ab, n1b, n2b, n3b, Fb1b, Fb2b]),\n",
    "                                Ab=1e-6, limit_Ab=(1e-20, 1e-2), error_Ab=1e-2, n1b=10, limit_n1b=(2.05,30.), error_n1b=.1, n2b=2, limit_n2b=(-20,20), error_n2b=1e-1, n3b=1.4, limit_n3b=(0.1,1.95), error_n3b=1e-2, Fb1b=11.8129, limit_Fb1b=(0,30), error_Fb1b=1, Fb2b=8.715, limit_Fb2b=(0.,10), error_Fb2b=1e-2,\n",
    "                                print_level=1)\n",
    "minuit_min.migrad()\n",
    "print(minuit_min.values)\n",
    "print(-minuit_min.fval)\n",
    "ll_tot = -minuit_min.fval\n",
    "print(ll_tot)"
   ]
  }
 ],
 "metadata": {
  "kernelspec": {
   "display_name": "Python 3",
   "language": "python",
   "name": "python3"
  },
  "language_info": {
   "codemirror_mode": {
    "name": "ipython",
    "version": 3
   },
   "file_extension": ".py",
   "mimetype": "text/x-python",
   "name": "python",
   "nbconvert_exporter": "python",
   "pygments_lexer": "ipython3",
   "version": "3.6.5"
  }
 },
 "nbformat": 4,
 "nbformat_minor": 2
}
